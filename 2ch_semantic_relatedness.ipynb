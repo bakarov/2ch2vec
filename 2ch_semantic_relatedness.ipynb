{
 "cells": [
  {
   "cell_type": "code",
   "execution_count": 19,
   "metadata": {
    "collapsed": false,
    "deletable": true,
    "editable": true
   },
   "outputs": [],
   "source": [
    "from pandas import read_csv, Series\n",
    "from gensim.models import Word2Vec, KeyedVectors\n",
    "import numpy as np\n",
    "from pickle import load\n",
    "from glove import Glove\n",
    "import adagram\n",
    "from gensim.models.wrappers import FastText, Wordrank\n",
    "from embed_utils import Word2VecF, Swivel, cosine_sim, get_adagram_sense_prob, wv\n",
    "from utils.string_utils import morph_parse, make_tokens\n",
    "from scipy.spatial.distance import cosine"
   ]
  },
  {
   "cell_type": "code",
   "execution_count": 31,
   "metadata": {
    "collapsed": false,
    "deletable": true,
    "editable": true
   },
   "outputs": [],
   "source": [
    "def get_vector_distance(word1, word2, model, num_features):\n",
    "    try:\n",
    "        if model == 'word2vec':\n",
    "            return cosine(word2vec[word1], word2vec[word2])\n",
    "        elif model == 'wang2vec':\n",
    "            return cosine(wang2vec[word1], wang2vec[word2])\n",
    "        elif model == 'glove':\n",
    "            return cosine(wv(glove, word1), wv(glove, word2))\n",
    "        elif model == 'word2vecf':\n",
    "            return cosine(w2vf.word2vec(word1), w2vf.word2vec(word2))\n",
    "        elif model == 'adagram':\n",
    "            return cosine(ada_model.sense_vector(word1, get_adagram_sense_prob(ada_model, word1)),\n",
    "                          ada_model.sense_vector(word2, get_adagram_sense_prob(ada_model, word2)))\n",
    "        elif model == 'fasttext':\n",
    "            return cosine(ft[word1], ft[word2])\n",
    "        elif model == 'bow':\n",
    "            return cosine(bow[word1], bow[word2])\n",
    "        elif model == 'swivel':\n",
    "            return cosine(swivel.lookup(word1), swivel.lookup(word2))\n",
    "    except (KeyError, AttributeError):\n",
    "        return 0"
   ]
  },
  {
   "cell_type": "code",
   "execution_count": 8,
   "metadata": {
    "collapsed": false,
    "deletable": true,
    "editable": true
   },
   "outputs": [],
   "source": [
    "df = read_csv('relatedness.csv')\n",
    "df.word1 = df.word1.apply(morph_parse)\n",
    "df.word2 = df.word2.apply(morph_parse)"
   ]
  },
  {
   "cell_type": "markdown",
   "metadata": {
    "deletable": true,
    "editable": true
   },
   "source": [
    "Загрузка Word2Vec-модели"
   ]
  },
  {
   "cell_type": "code",
   "execution_count": 10,
   "metadata": {
    "collapsed": false,
    "deletable": true,
    "editable": true
   },
   "outputs": [],
   "source": [
    "#word2vec = Word2Vec.load('models/2ch_word2vec')\n",
    "#word2vec_vocab = word2vec.wv.vocab\n",
    "\n",
    "word2vec = Word2Vec.load('models/2ch_word2vec_all_lem')\n",
    "word2vec_vocab = word2vec.wv.vocab"
   ]
  },
  {
   "cell_type": "markdown",
   "metadata": {
    "deletable": true,
    "editable": true
   },
   "source": [
    "Загрузка Glove-модели"
   ]
  },
  {
   "cell_type": "code",
   "execution_count": 11,
   "metadata": {
    "collapsed": false,
    "deletable": true,
    "editable": true
   },
   "outputs": [],
   "source": [
    "with open('models/2ch_glove_all_lem_100', 'rb') as fp:\n",
    "    glove = load(fp)\n",
    "glove_vocab = glove.dictionary"
   ]
  },
  {
   "cell_type": "markdown",
   "metadata": {
    "deletable": true,
    "editable": true
   },
   "source": [
    "Загрузка Wang2Vec-модели"
   ]
  },
  {
   "cell_type": "code",
   "execution_count": 12,
   "metadata": {
    "collapsed": false,
    "deletable": true,
    "editable": true
   },
   "outputs": [],
   "source": [
    "wang2vec = KeyedVectors.load_word2vec_format('models/wang2vec_2ch', binary=True)\n",
    "wang2vec_vocab = wang2vec.vocab"
   ]
  },
  {
   "cell_type": "markdown",
   "metadata": {
    "deletable": true,
    "editable": true
   },
   "source": [
    "Загрузка Word2Vec-f-модели"
   ]
  },
  {
   "cell_type": "code",
   "execution_count": 13,
   "metadata": {
    "collapsed": false,
    "deletable": true,
    "editable": true
   },
   "outputs": [],
   "source": [
    "from os import path\n",
    "\n",
    "w2vf = Word2VecF.load(path.join('models', 'w2vf.npy'), path.join('models', 'w2vf.vocab'))\n",
    "w2vf_vocab = w2vf._vocab"
   ]
  },
  {
   "cell_type": "markdown",
   "metadata": {
    "deletable": true,
    "editable": true
   },
   "source": [
    "Загрузка Adagram-модели"
   ]
  },
  {
   "cell_type": "code",
   "execution_count": 14,
   "metadata": {
    "collapsed": false,
    "deletable": true,
    "editable": true
   },
   "outputs": [],
   "source": [
    "ada_model = adagram.VectorModel.load('models/adagram_all_lem_100.pkl')\n",
    "adagram_vocab = ada_model.dictionary.word2id.keys()"
   ]
  },
  {
   "cell_type": "markdown",
   "metadata": {
    "deletable": true,
    "editable": true
   },
   "source": [
    "Загрузка BOW-модели"
   ]
  },
  {
   "cell_type": "code",
   "execution_count": 15,
   "metadata": {
    "collapsed": false,
    "deletable": true,
    "editable": true
   },
   "outputs": [],
   "source": [
    "from pickle import load\n",
    "\n",
    "with open('models/bow.pickle', 'rb') as fp:\n",
    "    bow = load(fp)"
   ]
  },
  {
   "cell_type": "markdown",
   "metadata": {
    "deletable": true,
    "editable": true
   },
   "source": [
    "Загрузка Swivel-модели"
   ]
  },
  {
   "cell_type": "code",
   "execution_count": 16,
   "metadata": {
    "collapsed": false,
    "deletable": true,
    "editable": true
   },
   "outputs": [],
   "source": [
    "swivel = Swivel('models/swivel.txt', 'models/swivel.bin')\n",
    "swivel_vocab = swivel.vocab"
   ]
  },
  {
   "cell_type": "markdown",
   "metadata": {
    "deletable": true,
    "editable": true
   },
   "source": [
    "Загрузка Fasttext-модели"
   ]
  },
  {
   "cell_type": "code",
   "execution_count": 17,
   "metadata": {
    "collapsed": false,
    "deletable": true,
    "editable": true
   },
   "outputs": [],
   "source": [
    "ft = FastText.load_word2vec_format('models/fasttext2.vec')\n",
    "ft_vocab = ft.vocab"
   ]
  },
  {
   "cell_type": "markdown",
   "metadata": {
    "deletable": true,
    "editable": true
   },
   "source": [
    "Загрузка Wordrank-модели"
   ]
  },
  {
   "cell_type": "code",
   "execution_count": 18,
   "metadata": {
    "collapsed": false,
    "deletable": true,
    "editable": true
   },
   "outputs": [],
   "source": [
    "#wr = Wordrank()\n",
    "#mod = Wordrank.load_wordrank_model('/media/defeater/d5233b78-d9c7-40e7-a454-8b108bcc4b8a/defeater/NLP/wordrank/meta/cooccurrence')\n",
    "#wr = wr.train('/media/defeater/d5233b78-d9c7-40e7-a454-8b108bcc4b8a/defeater/NLP/wordrank', corpus_file='corpus.txt', out_path='/media/defeater/d5233b78-d9c7-40e7-a454-8b108bcc4b8a/defeater/NLP/wordrank')"
   ]
  },
  {
   "cell_type": "markdown",
   "metadata": {
    "deletable": true,
    "editable": true
   },
   "source": [
    "Получение датасетов"
   ]
  },
  {
   "cell_type": "code",
   "execution_count": 60,
   "metadata": {
    "collapsed": true
   },
   "outputs": [],
   "source": [
    "from scipy.stats import spearmanr"
   ]
  },
  {
   "cell_type": "code",
   "execution_count": 70,
   "metadata": {
    "collapsed": true
   },
   "outputs": [],
   "source": [
    "def make_sims_dataset(model):\n",
    "    sims = np.zeros(shape=len(df), dtype='float32')\n",
    "    for i, m in df.iterrows():\n",
    "        sims[i] = get_vector_distance(m['word1'], m['word2'], model, 100)\n",
    "    return sims"
   ]
  },
  {
   "cell_type": "code",
   "execution_count": 71,
   "metadata": {
    "collapsed": false,
    "deletable": true,
    "editable": true
   },
   "outputs": [
    {
     "name": "stderr",
     "output_type": "stream",
     "text": [
      "/home/defeater/.local/lib/python3.5/site-packages/numpy/lib/function_base.py:3162: RuntimeWarning: invalid value encountered in true_divide\n",
      "  c /= stddev[:, None]\n",
      "/home/defeater/.local/lib/python3.5/site-packages/numpy/lib/function_base.py:3163: RuntimeWarning: invalid value encountered in true_divide\n",
      "  c /= stddev[None, :]\n",
      "/home/defeater/.local/lib/python3.5/site-packages/scipy/stats/_distn_infrastructure.py:879: RuntimeWarning: invalid value encountered in greater\n",
      "  return (self.a < x) & (x < self.b)\n",
      "/home/defeater/.local/lib/python3.5/site-packages/scipy/stats/_distn_infrastructure.py:879: RuntimeWarning: invalid value encountered in less\n",
      "  return (self.a < x) & (x < self.b)\n",
      "/home/defeater/.local/lib/python3.5/site-packages/scipy/stats/_distn_infrastructure.py:1818: RuntimeWarning: invalid value encountered in less_equal\n",
      "  cond2 = cond0 & (x <= self.a)\n"
     ]
    }
   ],
   "source": [
    "similarities = dict()\n",
    "\n",
    "for i in {'word2vec', 'glove', 'wang2vec', 'adagram', 'word2vecf', 'fasttext', 'bow'}:\n",
    "    similarities[i] = spearmanr(df.sim.values, make_sims_dataset(i))"
   ]
  },
  {
   "cell_type": "code",
   "execution_count": 72,
   "metadata": {
    "collapsed": false
   },
   "outputs": [
    {
     "data": {
      "text/plain": [
       "{'adagram': SpearmanrResult(correlation=0.032360790148491532, pvalue=0.61058528983577554),\n",
       " 'bow': SpearmanrResult(correlation=nan, pvalue=nan),\n",
       " 'fasttext': SpearmanrResult(correlation=-0.41225619811550562, pvalue=1.1209673718948913e-11),\n",
       " 'glove': SpearmanrResult(correlation=-0.13821090729523278, pvalue=0.028899794197869175),\n",
       " 'wang2vec': SpearmanrResult(correlation=-0.03818111085409457, pvalue=0.5479132026817185),\n",
       " 'word2vec': SpearmanrResult(correlation=-0.35163288119534769, pvalue=1.0937687109453958e-08),\n",
       " 'word2vecf': SpearmanrResult(correlation=nan, pvalue=nan)}"
      ]
     },
     "execution_count": 72,
     "metadata": {},
     "output_type": "execute_result"
    }
   ],
   "source": [
    "similarities"
   ]
  },
  {
   "cell_type": "markdown",
   "metadata": {
    "collapsed": true,
    "deletable": true,
    "editable": true
   },
   "source": [
    "Сравнение"
   ]
  },
  {
   "cell_type": "code",
   "execution_count": 56,
   "metadata": {
    "collapsed": false
   },
   "outputs": [
    {
     "name": "stdout",
     "output_type": "stream",
     "text": [
      "adagram\n",
      "-0.608272\n",
      "bow\n",
      "0.288403\n",
      "glove\n",
      "-0.246234\n",
      "word2vecf\n",
      "0.288403\n",
      "word2vec\n",
      "-0.21406\n",
      "fasttext\n",
      "-0.285401\n",
      "wang2vec\n",
      "-0.0402759\n"
     ]
    }
   ],
   "source": [
    "for sim in similarities.items():\n",
    "    print(sim[0])\n",
    "    print(np.mean(sim[1]))"
   ]
  },
  {
   "cell_type": "code",
   "execution_count": null,
   "metadata": {
    "collapsed": true,
    "deletable": true,
    "editable": true
   },
   "outputs": [],
   "source": []
  }
 ],
 "metadata": {
  "kernelspec": {
   "display_name": "Python 3",
   "language": "python",
   "name": "python3"
  },
  "language_info": {
   "codemirror_mode": {
    "name": "ipython",
    "version": 3
   },
   "file_extension": ".py",
   "mimetype": "text/x-python",
   "name": "python",
   "nbconvert_exporter": "python",
   "pygments_lexer": "ipython3",
   "version": "3.5.3"
  }
 },
 "nbformat": 4,
 "nbformat_minor": 2
}
