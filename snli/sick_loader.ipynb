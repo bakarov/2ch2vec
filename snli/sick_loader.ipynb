{
 "cells": [
  {
   "cell_type": "code",
   "execution_count": 1,
   "metadata": {
    "collapsed": true
   },
   "outputs": [],
   "source": [
    "from pandas import DataFrame\n",
    "import numpy as np"
   ]
  },
  {
   "cell_type": "code",
   "execution_count": 2,
   "metadata": {
    "collapsed": true
   },
   "outputs": [],
   "source": [
    "def read_data(filename):\n",
    "    data = [[m.split('\\t')[1:4] for m in l.strip().split('\\n')] for l in open(filename)]\n",
    "    sentence1 = []\n",
    "    sentence2 = []\n",
    "    label = []\n",
    "\n",
    "    for i in data[1:]:\n",
    "        sentence1.append(i[0][0])\n",
    "        sentence2.append(i[0][1])\n",
    "        label.append(i[0][2])\n",
    "\n",
    "    df = DataFrame()\n",
    "    df['sentence1'] = sentence1\n",
    "    df['sentence2'] = sentence2\n",
    "    df['label'] = label\n",
    "    return df"
   ]
  },
  {
   "cell_type": "code",
   "execution_count": 3,
   "metadata": {
    "collapsed": false
   },
   "outputs": [],
   "source": [
    "read_data('sick.txt').to_csv('sick.csv')"
   ]
  }
 ],
 "metadata": {
  "kernelspec": {
   "display_name": "Python 3",
   "language": "python",
   "name": "python3"
  },
  "language_info": {
   "codemirror_mode": {
    "name": "ipython",
    "version": 3
   },
   "file_extension": ".py",
   "mimetype": "text/x-python",
   "name": "python",
   "nbconvert_exporter": "python",
   "pygments_lexer": "ipython3",
   "version": "3.5.3"
  }
 },
 "nbformat": 4,
 "nbformat_minor": 2
}
