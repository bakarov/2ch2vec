{
 "cells": [
  {
   "cell_type": "code",
   "execution_count": 1,
   "metadata": {
    "collapsed": false,
    "deletable": true,
    "editable": true
   },
   "outputs": [],
   "source": [
    "from pandas import read_csv, Series\n",
    "from gensim.models import Word2Vec, KeyedVectors\n",
    "import numpy as np\n",
    "from pickle import load\n",
    "from glove import Glove\n",
    "import adagram\n",
    "from gensim.models.wrappers import FastText, Wordrank\n",
    "from embed_utils import Word2VecF, Swivel, cosine_sim, get_adagram_sense_prob, wv\n",
    "from utils.string_utils import morph_parse, make_tokens\n",
    "from scipy.spatial.distance import cosine\n",
    "from os import path\n",
    "from scipy.stats import spearmanr"
   ]
  },
  {
   "cell_type": "code",
   "execution_count": 2,
   "metadata": {
    "collapsed": false,
    "deletable": true,
    "editable": true
   },
   "outputs": [],
   "source": [
    "def get_vector_distance(word1, word2, model, num_features):\n",
    "    if model == 'word2vec':\n",
    "        return cosine(word2vec[word1], word2vec[word2])\n",
    "    elif model == 'wang2vec':\n",
    "        return cosine(wang2vec[word1], wang2vec[word2])\n",
    "    elif model == 'glove':\n",
    "        return cosine(wv(glove, word1), wv(glove, word2))\n",
    "    elif model == 'word2vecf':\n",
    "        return cosine(w2vf.word2vec(word1), w2vf.word2vec(word2))\n",
    "    elif model == 'adagram':\n",
    "        return cosine(ada_model.sense_vector(word1, get_adagram_sense_prob(ada_model, word1)),\n",
    "                      ada_model.sense_vector(word2, get_adagram_sense_prob(ada_model, word2)))\n",
    "    elif model == 'fasttext':\n",
    "        return cosine(ft[word1], ft[word2])\n",
    "    elif model == 'swivel':\n",
    "        return cosine(np.array(swivel.lookup(word1)).squeeze(), np.array(swivel.lookup(word2)).squeeze())"
   ]
  },
  {
   "cell_type": "code",
   "execution_count": 3,
   "metadata": {
    "collapsed": false,
    "deletable": true,
    "editable": true
   },
   "outputs": [],
   "source": [
    "def load_sim_dataset(name):\n",
    "    df = read_csv(path.join('sim_datasets', '{}.csv'.format(name))).dropna()\n",
    "    old_len = len(df)\n",
    "    df.word1 = df.word1.apply(morph_parse)\n",
    "    df.word2 = df.word2.apply(morph_parse)\n",
    "    for i, m in df.iterrows():\n",
    "        if not m['word1'] in w2vf._vocab or not m['word2'] in w2vf._vocab:\n",
    "            df.drop(i, inplace=True)\n",
    "    print('Percent of dropped = {}%'.format(len(df)/old_len*100))\n",
    "    return df.reset_index(drop=True)"
   ]
  },
  {
   "cell_type": "markdown",
   "metadata": {
    "deletable": true,
    "editable": true
   },
   "source": [
    "Загрузка Word2Vec-модели"
   ]
  },
  {
   "cell_type": "code",
   "execution_count": 4,
   "metadata": {
    "collapsed": false,
    "deletable": true,
    "editable": true
   },
   "outputs": [],
   "source": [
    "word2vec = Word2Vec.load(path.join('models','word2vec','all_lem_100'))"
   ]
  },
  {
   "cell_type": "markdown",
   "metadata": {
    "deletable": true,
    "editable": true
   },
   "source": [
    "Загрузка Glove-модели"
   ]
  },
  {
   "cell_type": "code",
   "execution_count": 5,
   "metadata": {
    "collapsed": false,
    "deletable": true,
    "editable": true
   },
   "outputs": [],
   "source": [
    "with open(path.join('models', 'glove' , 'all_lem_100'), 'rb') as fp:\n",
    "    glove = load(fp)"
   ]
  },
  {
   "cell_type": "markdown",
   "metadata": {
    "deletable": true,
    "editable": true
   },
   "source": [
    "Загрузка Wang2Vec-модели"
   ]
  },
  {
   "cell_type": "code",
   "execution_count": 6,
   "metadata": {
    "collapsed": false,
    "deletable": true,
    "editable": true
   },
   "outputs": [],
   "source": [
    "wang2vec = KeyedVectors.load_word2vec_format(path.join('models', 'wang2vec', 'wang_skipngram'), binary=True)"
   ]
  },
  {
   "cell_type": "markdown",
   "metadata": {
    "deletable": true,
    "editable": true
   },
   "source": [
    "Загрузка Word2Vec-f-модели"
   ]
  },
  {
   "cell_type": "code",
   "execution_count": 7,
   "metadata": {
    "collapsed": false,
    "deletable": true,
    "editable": true
   },
   "outputs": [],
   "source": [
    "w2vf = Word2VecF.load(path.join('models', 'word2vecf', 'vecs.npy'), path.join('models', 'word2vecf', 'vecs.vocab'))"
   ]
  },
  {
   "cell_type": "markdown",
   "metadata": {
    "deletable": true,
    "editable": true
   },
   "source": [
    "Загрузка AdaGram-модели"
   ]
  },
  {
   "cell_type": "code",
   "execution_count": 8,
   "metadata": {
    "collapsed": false,
    "deletable": true,
    "editable": true
   },
   "outputs": [],
   "source": [
    "ada_model = adagram.VectorModel.load(path.join('models', 'adagram', 'out.pkl'))"
   ]
  },
  {
   "cell_type": "markdown",
   "metadata": {
    "deletable": true,
    "editable": true
   },
   "source": [
    "Загрузка Swivel-модели"
   ]
  },
  {
   "cell_type": "code",
   "execution_count": 9,
   "metadata": {
    "collapsed": false,
    "deletable": true,
    "editable": true
   },
   "outputs": [],
   "source": [
    "swivel = Swivel(path.join('models', 'swivel', '2chswivel.txt'), path.join('models', 'swivel', '2chswivel.bin'))"
   ]
  },
  {
   "cell_type": "markdown",
   "metadata": {
    "deletable": true,
    "editable": true
   },
   "source": [
    "Загрузка FastText-модели"
   ]
  },
  {
   "cell_type": "code",
   "execution_count": 10,
   "metadata": {
    "collapsed": false,
    "deletable": true,
    "editable": true
   },
   "outputs": [],
   "source": [
    "ft = FastText.load_word2vec_format(path.join('models', 'fasttext', '2ch_model_cbow.vec'))"
   ]
  },
  {
   "cell_type": "markdown",
   "metadata": {
    "deletable": true,
    "editable": true
   },
   "source": [
    "Получение датасетов"
   ]
  },
  {
   "cell_type": "code",
   "execution_count": 11,
   "metadata": {
    "collapsed": true,
    "deletable": true,
    "editable": true
   },
   "outputs": [],
   "source": [
    "def make_sims_dataset(model, df):\n",
    "    dim = 100\n",
    "    if model == 'bow':\n",
    "        dim = 1\n",
    "    sims = np.zeros(shape=len(df), dtype='float32')\n",
    "    for i, m in df.iterrows():\n",
    "        sims[i] = get_vector_distance(m['word1'], m['word2'], model, dim)\n",
    "    return sims"
   ]
  },
  {
   "cell_type": "code",
   "execution_count": 12,
   "metadata": {
    "collapsed": false,
    "deletable": true,
    "editable": true
   },
   "outputs": [
    {
     "name": "stdout",
     "output_type": "stream",
     "text": [
      "Percent of dropped = 16.289140572951368%\n",
      "Percent of dropped = 16.289140572951368%\n",
      "Percent of dropped = 16.289140572951368%\n",
      "Percent of dropped = 16.289140572951368%\n",
      "Percent of dropped = 16.289140572951368%\n",
      "Percent of dropped = 16.289140572951368%\n",
      "Percent of dropped = 16.289140572951368%\n",
      "Percent of dropped = 26.884422110552762%\n",
      "Percent of dropped = 26.884422110552762%\n",
      "Percent of dropped = 26.884422110552762%\n",
      "Percent of dropped = 26.884422110552762%\n",
      "Percent of dropped = 26.884422110552762%\n",
      "Percent of dropped = 26.884422110552762%\n",
      "Percent of dropped = 26.884422110552762%\n",
      "Percent of dropped = 4.7444490992878094%\n",
      "Percent of dropped = 4.7444490992878094%\n",
      "Percent of dropped = 4.7444490992878094%\n",
      "Percent of dropped = 4.7444490992878094%\n",
      "Percent of dropped = 4.7444490992878094%\n",
      "Percent of dropped = 4.7444490992878094%\n",
      "Percent of dropped = 4.7444490992878094%\n"
     ]
    }
   ],
   "source": [
    "similarities = {'hj' : dict(), 'rt-test' : dict(), 'ae2-test' : dict()}\n",
    "\n",
    "for name in {'hj', \n",
    "             'rt-test', \n",
    "             'ae2-test'\n",
    "            }:\n",
    "    for i in {'word2vec', 'glove', 'wang2vec', 'adagram', 'word2vecf', 'fasttext', 'swivel'}:\n",
    "        dataset = load_sim_dataset(name)\n",
    "        similarities[name][i] = spearmanr(dataset.sim.values, make_sims_dataset(i, dataset))"
   ]
  },
  {
   "cell_type": "code",
   "execution_count": 13,
   "metadata": {
    "collapsed": false,
    "deletable": true,
    "editable": true
   },
   "outputs": [
    {
     "data": {
      "text/plain": [
       "{'ae2-test': {'adagram': SpearmanrResult(correlation=-0.17863865480002925, pvalue=7.1216756701817543e-05),\n",
       "  'fasttext': SpearmanrResult(correlation=-0.69825387833519659, pvalue=1.0265987087050723e-72),\n",
       "  'glove': SpearmanrResult(correlation=-0.59817897281091748, pvalue=8.7959421062475066e-49),\n",
       "  'swivel': SpearmanrResult(correlation=-0.71758189964645935, pvalue=1.5702874368056979e-78),\n",
       "  'wang2vec': SpearmanrResult(correlation=-0.46212600352049282, pvalue=3.0513603247699464e-27),\n",
       "  'word2vec': SpearmanrResult(correlation=-0.6918791243183795, pvalue=6.737307836130957e-71),\n",
       "  'word2vecf': SpearmanrResult(correlation=-0.14990859902560708, pvalue=0.0008832159285140132)},\n",
       " 'hj': {'adagram': SpearmanrResult(correlation=-0.12932290276615055, pvalue=0.18431139248593839),\n",
       "  'fasttext': SpearmanrResult(correlation=-0.50189579399408679, pvalue=3.6414231125651821e-08),\n",
       "  'glove': SpearmanrResult(correlation=-0.41504495583029738, pvalue=8.7875622872992301e-06),\n",
       "  'swivel': SpearmanrResult(correlation=-0.59289825809188668, pvalue=1.715590630586065e-11),\n",
       "  'wang2vec': SpearmanrResult(correlation=-0.51781607856748202, pvalue=1.1177638313681967e-08),\n",
       "  'word2vec': SpearmanrResult(correlation=-0.60049568453547109, pvalue=8.0930916496954335e-12),\n",
       "  'word2vecf': SpearmanrResult(correlation=0.01988565102040149, pvalue=0.83889834526387996)},\n",
       " 'rt-test': {'adagram': SpearmanrResult(correlation=-0.084541009244588891, pvalue=0.072240181744841869),\n",
       "  'fasttext': SpearmanrResult(correlation=-0.52309964872171633, pvalue=3.5009573424899106e-33),\n",
       "  'glove': SpearmanrResult(correlation=-0.42346342554585903, pvalue=3.886547063221961e-21),\n",
       "  'swivel': SpearmanrResult(correlation=-0.4823285760793119, pvalue=9.023226854547257e-28),\n",
       "  'wang2vec': SpearmanrResult(correlation=-0.21288618593714864, pvalue=4.8538119996125751e-06),\n",
       "  'word2vec': SpearmanrResult(correlation=-0.49952604483940943, pvalue=5.7725769928293401e-30),\n",
       "  'word2vecf': SpearmanrResult(correlation=-0.17380371626780777, pvalue=0.00020135371889376912)}}"
      ]
     },
     "execution_count": 13,
     "metadata": {},
     "output_type": "execute_result"
    }
   ],
   "source": [
    "similarities"
   ]
  },
  {
   "cell_type": "code",
   "execution_count": null,
   "metadata": {
    "collapsed": true,
    "deletable": true,
    "editable": true
   },
   "outputs": [],
   "source": []
  }
 ],
 "metadata": {
  "kernelspec": {
   "display_name": "Python 3",
   "language": "python",
   "name": "python3"
  },
  "language_info": {
   "codemirror_mode": {
    "name": "ipython",
    "version": 3
   },
   "file_extension": ".py",
   "mimetype": "text/x-python",
   "name": "python",
   "nbconvert_exporter": "python",
   "pygments_lexer": "ipython3",
   "version": "3.5.3"
  }
 },
 "nbformat": 4,
 "nbformat_minor": 2
}
