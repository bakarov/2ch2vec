{
 "cells": [
  {
   "cell_type": "markdown",
   "metadata": {
    "deletable": true,
    "editable": true
   },
   "source": [
    "Корпус для обучения моделей: все доски"
   ]
  },
  {
   "cell_type": "code",
   "execution_count": 2,
   "metadata": {
    "collapsed": false,
    "deletable": true,
    "editable": true
   },
   "outputs": [],
   "source": [
    "from pandas import DataFrame, concat\n",
    "from os import listdir, path\n",
    "from utils.string_utils import *\n",
    "from numpy import savetxt"
   ]
  },
  {
   "cell_type": "markdown",
   "metadata": {
    "deletable": true,
    "editable": true
   },
   "source": [
    "Обработка"
   ]
  },
  {
   "cell_type": "code",
   "execution_count": 8,
   "metadata": {
    "collapsed": true,
    "deletable": true,
    "editable": true
   },
   "outputs": [],
   "source": [
    "def process_board_list(board_list, filename, lemmatize=False):\n",
    "    df = DataFrame()\n",
    "    for board in board_list:\n",
    "        old_df = DataFrame.from_csv(path.join('pickle', board + '.csv'), encoding='utf-8')\n",
    "        df = concat((df, old_df)).drop_duplicates()\n",
    "    df.comment = df.comment.apply(cut)\n",
    "    if lemmatize:\n",
    "        df.comment = df.comment.apply(morph_parse)\n",
    "    with open(path.join('corpus', filename + '.txt'), 'w') as f:\n",
    "        f.write('\\n'.join(df.comment.values))"
   ]
  },
  {
   "cell_type": "markdown",
   "metadata": {
    "deletable": true,
    "editable": true
   },
   "source": [
    "Корпус для обучения моделей: все доски"
   ]
  },
  {
   "cell_type": "code",
   "execution_count": 9,
   "metadata": {
    "collapsed": false,
    "deletable": true,
    "editable": true
   },
   "outputs": [],
   "source": [
    "board_list = ['pr', 'vg', 'b', 'me', 'po', 'diy', 'a', 'rf']\n",
    "process_board_list(board_list, 'all_lem', True)"
   ]
  },
  {
   "cell_type": "markdown",
   "metadata": {
    "deletable": true,
    "editable": true
   },
   "source": [
    "Корпус для обучения моделей: /b"
   ]
  },
  {
   "cell_type": "code",
   "execution_count": 10,
   "metadata": {
    "collapsed": true,
    "deletable": true,
    "editable": true
   },
   "outputs": [],
   "source": [
    "board_list = ['b']\n",
    "process_board_list(board_list, 'b_lem', True)"
   ]
  },
  {
   "cell_type": "markdown",
   "metadata": {
    "collapsed": true,
    "deletable": true,
    "editable": true
   },
   "source": [
    "Размеченный корпус для кросс-валидации"
   ]
  },
  {
   "cell_type": "code",
   "execution_count": null,
   "metadata": {
    "collapsed": true,
    "deletable": true,
    "editable": true
   },
   "outputs": [],
   "source": [
    "df = DataFrame()\n",
    "directory = 'pickle'\n",
    "\n",
    "for filename in listdir(directory):\n",
    "    old_df = DataFrame.from_csv(path.join(directory, filename))\n",
    "    df = concat((df, old_df)).drop_duplicates()"
   ]
  },
  {
   "cell_type": "code",
   "execution_count": null,
   "metadata": {
    "collapsed": true,
    "deletable": true,
    "editable": true
   },
   "outputs": [],
   "source": [
    "corpus = open('training_corpus.txt', 'w')\n",
    "\n",
    "for comment in df.comment.values:\n",
    "    corpus.write(\"%s\\n\" % comment)"
   ]
  },
  {
   "cell_type": "markdown",
   "metadata": {
    "deletable": true,
    "editable": true
   },
   "source": [
    "Корпус без пунктуации и всего"
   ]
  },
  {
   "cell_type": "code",
   "execution_count": 3,
   "metadata": {
    "collapsed": true,
    "deletable": true,
    "editable": true
   },
   "outputs": [],
   "source": [
    "df = DataFrame()\n",
    "\n",
    "for board in board_list:\n",
    "    old_df = DataFrame.from_csv('pickle/' + board + '.csv', encoding='utf-8')\n",
    "    df = concat((df, old_df)).drop_duplicates()"
   ]
  },
  {
   "cell_type": "code",
   "execution_count": 8,
   "metadata": {
    "collapsed": true,
    "deletable": true,
    "editable": true
   },
   "outputs": [],
   "source": [
    "from re import sub, compile\n",
    "\n",
    "def make_alpha(text):\n",
    "    alpha = compile('[^a-zа-яA-ZА-Я ]')\n",
    "    return alpha.sub('', text)"
   ]
  },
  {
   "cell_type": "code",
   "execution_count": 9,
   "metadata": {
    "collapsed": false,
    "deletable": true,
    "editable": true
   },
   "outputs": [],
   "source": [
    "texts = [make_alpha(comment) for comment in df.comment.values]"
   ]
  },
  {
   "cell_type": "code",
   "execution_count": 14,
   "metadata": {
    "collapsed": false,
    "deletable": true,
    "editable": true
   },
   "outputs": [
    {
     "data": {
      "text/plain": [
       "10960356"
      ]
     },
     "execution_count": 14,
     "metadata": {},
     "output_type": "execute_result"
    }
   ],
   "source": [
    "open('2ch_corpus.txt', 'w').write('\\n'.join(texts[:int(len(texts)/3)]))"
   ]
  },
  {
   "cell_type": "code",
   "execution_count": null,
   "metadata": {
    "collapsed": true,
    "deletable": true,
    "editable": true
   },
   "outputs": [],
   "source": []
  }
 ],
 "metadata": {
  "kernelspec": {
   "display_name": "Python 3",
   "language": "python",
   "name": "python3"
  },
  "language_info": {
   "codemirror_mode": {
    "name": "ipython",
    "version": 3
   },
   "file_extension": ".py",
   "mimetype": "text/x-python",
   "name": "python",
   "nbconvert_exporter": "python",
   "pygments_lexer": "ipython3",
   "version": "3.5.3"
  }
 },
 "nbformat": 4,
 "nbformat_minor": 2
}
