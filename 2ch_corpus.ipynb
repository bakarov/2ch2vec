{
 "cells": [
  {
   "cell_type": "markdown",
   "metadata": {
    "deletable": true,
    "editable": true
   },
   "source": [
    "Корпус для обучения моделей: все доски\n",
    "\n",
    "* 1 199 736 сообщений\n",
    "* 6 103 612 слов\n",
    "\n",
    "Корпус для обучения моделей: /b\n",
    "\n",
    "* 277 340 сообщений\n",
    "* 1 268 381 слов"
   ]
  },
  {
   "cell_type": "code",
   "execution_count": 40,
   "metadata": {
    "collapsed": false,
    "deletable": true,
    "editable": true
   },
   "outputs": [],
   "source": [
    "from pandas import DataFrame, concat\n",
    "from os import listdir, path\n",
    "from utils.string_utils import *\n",
    "from numpy import savetxt\n",
    "from pickle import dump\n",
    "from nltk import word_tokenize"
   ]
  },
  {
   "cell_type": "markdown",
   "metadata": {
    "deletable": true,
    "editable": true
   },
   "source": [
    "Обработка"
   ]
  },
  {
   "cell_type": "code",
   "execution_count": 2,
   "metadata": {
    "collapsed": true,
    "deletable": true,
    "editable": true
   },
   "outputs": [],
   "source": [
    "def process_board_list(board_list, filename, lemmatize=False):\n",
    "    df = DataFrame()\n",
    "    for board in board_list:\n",
    "        old_df = DataFrame.from_csv(path.join('pickle', board + '.csv'), encoding='utf-8')\n",
    "        df = concat((df, old_df)).drop_duplicates()\n",
    "    df.comment = df.comment.apply(cut)\n",
    "    if lemmatize:\n",
    "        df.comment = df.comment.apply(morph_parse)\n",
    "    with open(path.join('corpus', filename + '.txt'), 'w') as f:\n",
    "        f.write('\\n'.join(df.comment.values))"
   ]
  },
  {
   "cell_type": "markdown",
   "metadata": {
    "deletable": true,
    "editable": true
   },
   "source": [
    "Корпус для обучения моделей: все доски"
   ]
  },
  {
   "cell_type": "code",
   "execution_count": 3,
   "metadata": {
    "collapsed": false,
    "deletable": true,
    "editable": true
   },
   "outputs": [],
   "source": [
    "board_list = ['pr', 'vg', 'b', 'me', 'po', 'diy', 'a', 'rf']\n",
    "process_board_list(board_list, 'all_lem', True)"
   ]
  },
  {
   "cell_type": "markdown",
   "metadata": {
    "deletable": true,
    "editable": true
   },
   "source": [
    "Корпус для обучения моделей: /b"
   ]
  },
  {
   "cell_type": "code",
   "execution_count": 22,
   "metadata": {
    "collapsed": true,
    "deletable": true,
    "editable": true
   },
   "outputs": [],
   "source": [
    "board_list = ['b']\n",
    "process_board_list(board_list, 'b_lem', True)"
   ]
  },
  {
   "cell_type": "markdown",
   "metadata": {},
   "source": [
    "Токенизированный корпус"
   ]
  },
  {
   "cell_type": "code",
   "execution_count": 47,
   "metadata": {
    "collapsed": true
   },
   "outputs": [],
   "source": [
    "def tokenize_corpus(name):\n",
    "    with open(path.join('corpus', name + '.txt')) as f:\n",
    "        model_data = list(f.read().splitlines())\n",
    "\n",
    "    model_data = [word_tokenize(sentence) for sentence in model_data]\n",
    "\n",
    "    with open(path.join('corpus', name + '_tokenized.pickle'), 'wb') as f:\n",
    "        dump(model_data, f)"
   ]
  },
  {
   "cell_type": "code",
   "execution_count": 48,
   "metadata": {
    "collapsed": false
   },
   "outputs": [],
   "source": [
    "tokenize_corpus('all_lem')\n",
    "tokenize_corpus('b_lem')"
   ]
  },
  {
   "cell_type": "markdown",
   "metadata": {
    "collapsed": true,
    "deletable": true,
    "editable": true
   },
   "source": [
    "Нелемматизированный корпус для обучения моделей: все доски"
   ]
  },
  {
   "cell_type": "code",
   "execution_count": 49,
   "metadata": {
    "collapsed": true
   },
   "outputs": [],
   "source": [
    "board_list = ['pr', 'vg', 'b', 'me', 'po', 'diy', 'a', 'rf']\n",
    "process_board_list(board_list, 'all')"
   ]
  },
  {
   "cell_type": "markdown",
   "metadata": {},
   "source": [
    "Нелемматизированный корпус для обучения моделей: /b"
   ]
  },
  {
   "cell_type": "code",
   "execution_count": 31,
   "metadata": {
    "collapsed": true
   },
   "outputs": [],
   "source": [
    "board_list = ['b']\n",
    "process_board_list(board_list, 'b')"
   ]
  },
  {
   "cell_type": "code",
   "execution_count": null,
   "metadata": {
    "collapsed": true
   },
   "outputs": [],
   "source": []
  }
 ],
 "metadata": {
  "kernelspec": {
   "display_name": "Python 3",
   "language": "python",
   "name": "python3"
  },
  "language_info": {
   "codemirror_mode": {
    "name": "ipython",
    "version": 3
   },
   "file_extension": ".py",
   "mimetype": "text/x-python",
   "name": "python",
   "nbconvert_exporter": "python",
   "pygments_lexer": "ipython3",
   "version": "3.5.3"
  }
 },
 "nbformat": 4,
 "nbformat_minor": 2
}
