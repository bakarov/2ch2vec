{
 "cells": [
  {
   "cell_type": "code",
   "execution_count": 1,
   "metadata": {
    "collapsed": false,
    "deletable": true,
    "editable": true
   },
   "outputs": [],
   "source": [
    "from pandas import read_csv, Series\n",
    "from gensim.models import Word2Vec, KeyedVectors\n",
    "import numpy as np\n",
    "from pickle import load\n",
    "from glove import Glove\n",
    "import adagram\n",
    "from gensim.models.wrappers import FastText, Wordrank\n",
    "from embed_utils import Word2VecF, Swivel, cosine_sim, get_adagram_sense_prob, wv\n",
    "from utils.string_utils import morph_parse, make_tokens\n",
    "from os import path\n",
    "from scipy.stats import spearmanr\n",
    "from scipy.spatial.distance import cosine\n",
    "from sklearn.metrics import f1_score\n",
    "from sklearn.metrics import average_precision_score"
   ]
  },
  {
   "cell_type": "code",
   "execution_count": 22,
   "metadata": {
    "collapsed": false,
    "deletable": true,
    "editable": true
   },
   "outputs": [],
   "source": [
    "def get_vector_distance(word1, word2, model,):\n",
    "    if model == 'word2vec':\n",
    "        return 1 - cosine(word2vec[word1], word2vec[word2])\n",
    "    elif model == 'wang2vec':\n",
    "        return 1 - cosine(wang2vec[word1], wang2vec[word2])\n",
    "    elif model == 'glove':\n",
    "        return 1- cosine(glove[word1], glove[word2])\n",
    "    elif model == 'fasttext':\n",
    "        return 1 - cosine(ft[word1], ft[word2])\n",
    "    elif model == 'swivel':\n",
    "        return 1 - cosine(np.array(swivel.lookup(word1)).squeeze(), np.array(swivel.lookup(word2)).squeeze())\n",
    "    elif model == 'word2vecf':\n",
    "        return 1 - cosine(w2vf.word2vec(word1), w2vf.word2vec(word2))\n",
    "    elif model == 'adagram':\n",
    "        return 1 - cosine(ada_model.sense_vector(word1, get_adagram_sense_prob(ada_model, word1)),\n",
    "                      ada_model.sense_vector(word2, get_adagram_sense_prob(ada_model, word2)))"
   ]
  },
  {
   "cell_type": "code",
   "execution_count": 27,
   "metadata": {
    "collapsed": false,
    "deletable": true,
    "editable": true
   },
   "outputs": [],
   "source": [
    "def load_sim_dataset_f(name, verbose=False):\n",
    "    df = read_csv(path.join('datasets', '{}.csv'.format(name))).dropna()\n",
    "    old_len = len(df)\n",
    "    df.word1 = df.word1.apply(morph_parse)\n",
    "    df.word2 = df.word2.apply(morph_parse)\n",
    "    for i, m in df.iterrows():\n",
    "        if not m['word1'] in w2vf._vocab or not m['word2'] in w2vf._vocab:\n",
    "            df.drop(i, inplace=True)\n",
    "    if verbose:\n",
    "        print('Percent of dropped = {:2.1f}%'.format((old_len - len(df))/old_len*100))\n",
    "    return df.reset_index(drop=True)"
   ]
  },
  {
   "cell_type": "code",
   "execution_count": 24,
   "metadata": {
    "collapsed": false,
    "deletable": true,
    "editable": true
   },
   "outputs": [],
   "source": [
    "def load_sim_dataset(name, verbose=False):\n",
    "    df = read_csv(path.join('datasets', '{}.csv'.format(name))).dropna()\n",
    "    old_len = len(df)\n",
    "    df.word1 = df.word1.apply(morph_parse)\n",
    "    df.word2 = df.word2.apply(morph_parse)\n",
    "    for i, m in df.iterrows():\n",
    "        if not m['word1'] in swivel.vocab or not m['word2'] in swivel.vocab:\n",
    "            df.drop(i, inplace=True)\n",
    "    if verbose:\n",
    "        print('Percent of dropped = {:2.1f}%'.format((old_len - len(df))/old_len*100))\n",
    "    return df.reset_index(drop=True)"
   ]
  },
  {
   "cell_type": "code",
   "execution_count": 4,
   "metadata": {
    "collapsed": true,
    "deletable": true,
    "editable": true
   },
   "outputs": [],
   "source": [
    "MODEL_NAME = '2ch_model'"
   ]
  },
  {
   "cell_type": "markdown",
   "metadata": {
    "deletable": true,
    "editable": true
   },
   "source": [
    "Загрузка Word2Vec-модели"
   ]
  },
  {
   "cell_type": "code",
   "execution_count": 5,
   "metadata": {
    "collapsed": false,
    "deletable": true,
    "editable": true
   },
   "outputs": [],
   "source": [
    "word2vec = Word2Vec.load(path.join('models','word2vec', MODEL_NAME))"
   ]
  },
  {
   "cell_type": "markdown",
   "metadata": {
    "deletable": true,
    "editable": true
   },
   "source": [
    "Загрузка Glove-модели"
   ]
  },
  {
   "cell_type": "code",
   "execution_count": 6,
   "metadata": {
    "collapsed": true,
    "deletable": true,
    "editable": true
   },
   "outputs": [],
   "source": [
    "def loadGloveModel(gloveFile):\n",
    "    f = open(gloveFile,'r')\n",
    "    model = {}\n",
    "    for line in f:\n",
    "        splitLine = line.split()\n",
    "        word = splitLine[0]\n",
    "        embedding = [float(val) for val in splitLine[1:]]\n",
    "        model[word] = embedding\n",
    "    return model"
   ]
  },
  {
   "cell_type": "code",
   "execution_count": 7,
   "metadata": {
    "collapsed": false,
    "deletable": true,
    "editable": true
   },
   "outputs": [],
   "source": [
    "glove = loadGloveModel(path.join('models', 'glove' , '{}.txt'.format(MODEL_NAME)))"
   ]
  },
  {
   "cell_type": "markdown",
   "metadata": {
    "deletable": true,
    "editable": true
   },
   "source": [
    "Загрузка Wang2Vec-модели"
   ]
  },
  {
   "cell_type": "code",
   "execution_count": 8,
   "metadata": {
    "collapsed": false,
    "deletable": true,
    "editable": true
   },
   "outputs": [],
   "source": [
    "wang2vec = KeyedVectors.load_word2vec_format(path.join('models', 'wang2vec', MODEL_NAME), binary=True)"
   ]
  },
  {
   "cell_type": "markdown",
   "metadata": {
    "deletable": true,
    "editable": true
   },
   "source": [
    "Загрузка Swivel-модели"
   ]
  },
  {
   "cell_type": "code",
   "execution_count": 9,
   "metadata": {
    "collapsed": false,
    "deletable": true,
    "editable": true
   },
   "outputs": [],
   "source": [
    "swivel = Swivel(path.join('models', 'swivel', '{}.txt'.format(MODEL_NAME)),\\\n",
    "                path.join('models', 'swivel', '{}.bin'.format(MODEL_NAME)))"
   ]
  },
  {
   "cell_type": "markdown",
   "metadata": {
    "deletable": true,
    "editable": true
   },
   "source": [
    "Загрузка FastText-модели"
   ]
  },
  {
   "cell_type": "code",
   "execution_count": 10,
   "metadata": {
    "collapsed": false,
    "deletable": true,
    "editable": true
   },
   "outputs": [],
   "source": [
    "ft = FastText.load_word2vec_format(path.join('models', 'fasttext', '{}.vec'.format(MODEL_NAME)))"
   ]
  },
  {
   "cell_type": "markdown",
   "metadata": {
    "deletable": true,
    "editable": true
   },
   "source": [
    "Загрузка Word2Vecf-модели"
   ]
  },
  {
   "cell_type": "code",
   "execution_count": 16,
   "metadata": {
    "collapsed": true,
    "deletable": true,
    "editable": true
   },
   "outputs": [],
   "source": [
    "w2vf = Word2VecF.load(path.join('models', 'word2vecf', '{}.npy'.format(MODEL_NAME)),\\\n",
    "                      path.join('models', 'word2vecf', '{}.vocab'.format(MODEL_NAME)))"
   ]
  },
  {
   "cell_type": "markdown",
   "metadata": {
    "deletable": true,
    "editable": true
   },
   "source": [
    "Загрузка Adagram-модели"
   ]
  },
  {
   "cell_type": "code",
   "execution_count": 12,
   "metadata": {
    "collapsed": true,
    "deletable": true,
    "editable": true
   },
   "outputs": [],
   "source": [
    "ada_model = adagram.VectorModel.load(path.join('models', 'adagram', '{}.pkl'.format(MODEL_NAME)))"
   ]
  },
  {
   "cell_type": "markdown",
   "metadata": {
    "deletable": true,
    "editable": true
   },
   "source": [
    "Получение датасетов"
   ]
  },
  {
   "cell_type": "code",
   "execution_count": 13,
   "metadata": {
    "collapsed": true,
    "deletable": true,
    "editable": true
   },
   "outputs": [],
   "source": [
    "def make_sims_dataset(model, df):\n",
    "    dim = 100\n",
    "    if model == 'bow':\n",
    "        dim = 1\n",
    "    sims = np.zeros(shape=len(df), dtype='float32')\n",
    "    for i, m in df.iterrows():\n",
    "        sims[i] = get_vector_distance(m['word1'], m['word2'], model)\n",
    "    return sims"
   ]
  },
  {
   "cell_type": "code",
   "execution_count": 25,
   "metadata": {
    "collapsed": false,
    "deletable": true,
    "editable": true
   },
   "outputs": [
    {
     "name": "stdout",
     "output_type": "stream",
     "text": [
      "Percent of dropped = 5.5%\n",
      "Percent of dropped = 40.9%\n",
      "Percent of dropped = 9.4%\n"
     ]
    }
   ],
   "source": [
    "similarities = {'hj' : dict(), 'rt-test' : dict(), 'ae2-test' : dict()}\n",
    "\n",
    "for name in ['hj', \n",
    "             'rt-test', \n",
    "             'ae2-test'\n",
    "            ]:\n",
    "    dataset = load_sim_dataset(name, True)\n",
    "    for i in ['word2vec', 'glove', 'wang2vec', 'adagram', 'fasttext', 'swivel']:\n",
    "        model_sims = make_sims_dataset(i, dataset)\n",
    "        if name != 'hj':\n",
    "            model_sims = [1 if sim > 0.5 else 0 for sim in model_sims]\n",
    "            similarities[name][i] = '%.2f' % average_precision_score(dataset.sim.values, model_sims)\n",
    "        else:\n",
    "            similarities[name][i] = '%.2f' % spearmanr(dataset.sim.values, model_sims)[0]"
   ]
  },
  {
   "cell_type": "code",
   "execution_count": 28,
   "metadata": {
    "collapsed": false,
    "deletable": true,
    "editable": true
   },
   "outputs": [
    {
     "name": "stdout",
     "output_type": "stream",
     "text": [
      "Percent of dropped = 27.4%\n",
      "Percent of dropped = 74.0%\n",
      "Percent of dropped = 38.0%\n"
     ]
    }
   ],
   "source": [
    "for name in ['hj', \n",
    "             'rt-test', \n",
    "             'ae2-test'\n",
    "            ]:\n",
    "    dataset = load_sim_dataset_f(name, True)\n",
    "    for i in ['word2vecf']:\n",
    "        model_sims = make_sims_dataset(i, dataset)\n",
    "        if name != 'hj':\n",
    "            model_sims = [1 if sim > 0.5 else 0 for sim in model_sims]\n",
    "            similarities[name][i] = '%.2f' % average_precision_score(dataset.sim.values, model_sims)\n",
    "        else:\n",
    "            similarities[name][i] = '%.2f' % spearmanr(dataset.sim.values, model_sims)[0]"
   ]
  },
  {
   "cell_type": "code",
   "execution_count": 29,
   "metadata": {
    "collapsed": false,
    "deletable": true,
    "editable": true
   },
   "outputs": [
    {
     "data": {
      "text/plain": [
       "{'ae2-test': {'adagram': '0.66',\n",
       "  'fasttext': '0.79',\n",
       "  'glove': '0.77',\n",
       "  'swivel': '0.76',\n",
       "  'wang2vec': '0.78',\n",
       "  'word2vec': '0.80',\n",
       "  'word2vecf': '0.74'},\n",
       " 'hj': {'adagram': '0.11',\n",
       "  'fasttext': '0.44',\n",
       "  'glove': '0.40',\n",
       "  'swivel': '0.52',\n",
       "  'wang2vec': '0.41',\n",
       "  'word2vec': '0.51',\n",
       "  'word2vecf': '0.04'},\n",
       " 'rt-test': {'adagram': '0.57',\n",
       "  'fasttext': '0.76',\n",
       "  'glove': '0.74',\n",
       "  'swivel': '0.74',\n",
       "  'wang2vec': '0.72',\n",
       "  'word2vec': '0.68',\n",
       "  'word2vecf': '0.73'}}"
      ]
     },
     "execution_count": 29,
     "metadata": {},
     "output_type": "execute_result"
    }
   ],
   "source": [
    "similarities"
   ]
  },
  {
   "cell_type": "code",
   "execution_count": null,
   "metadata": {
    "collapsed": true,
    "deletable": true,
    "editable": true
   },
   "outputs": [],
   "source": []
  }
 ],
 "metadata": {
  "kernelspec": {
   "display_name": "Python 3",
   "language": "python",
   "name": "python3"
  },
  "language_info": {
   "codemirror_mode": {
    "name": "ipython",
    "version": 3
   },
   "file_extension": ".py",
   "mimetype": "text/x-python",
   "name": "python",
   "nbconvert_exporter": "python",
   "pygments_lexer": "ipython3",
   "version": "3.5.3"
  }
 },
 "nbformat": 4,
 "nbformat_minor": 2
}
