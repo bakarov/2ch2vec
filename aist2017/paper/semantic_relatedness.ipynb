{
 "cells": [
  {
   "cell_type": "code",
   "execution_count": 1,
   "metadata": {
    "collapsed": false,
    "deletable": true,
    "editable": true
   },
   "outputs": [],
   "source": [
    "from pandas import read_csv, Series\n",
    "from gensim.models import Word2Vec, KeyedVectors\n",
    "import numpy as np\n",
    "from pickle import load\n",
    "from glove import Glove\n",
    "import adagram\n",
    "from gensim.models.wrappers import FastText, Wordrank\n",
    "from embed_utils import Word2VecF, Swivel, cosine_sim, get_adagram_sense_prob, wv\n",
    "from utils.string_utils import morph_parse, make_tokens\n",
    "from os import path"
   ]
  },
  {
   "cell_type": "code",
   "execution_count": 2,
   "metadata": {
    "collapsed": true,
    "deletable": true,
    "editable": true
   },
   "outputs": [],
   "source": [
    "from sklearn.neighbors import KNeighborsClassifier\n",
    "from sklearn.dummy import DummyClassifier\n",
    "from sklearn.metrics import precision_score, recall_score, f1_score\n",
    "from sklearn.calibration import CalibratedClassifierCV, calibration_curve\n",
    "from sklearn.model_selection import learning_curve\n",
    "from sklearn.model_selection import ShuffleSplit\n",
    "from scipy.spatial.distance import cosine\n",
    "from sklearn.decomposition import PCA"
   ]
  },
  {
   "cell_type": "code",
   "execution_count": 3,
   "metadata": {
    "collapsed": true,
    "deletable": true,
    "editable": true
   },
   "outputs": [],
   "source": [
    "import matplotlib.pyplot as plt\n",
    "import seaborn\n",
    "import mpltex"
   ]
  },
  {
   "cell_type": "code",
   "execution_count": 4,
   "metadata": {
    "collapsed": false,
    "deletable": true,
    "editable": true
   },
   "outputs": [],
   "source": [
    "df = read_csv(path.join('datasets', '2sr.csv'))\n",
    "df.post = df.post.apply(morph_parse)\n",
    "df.op_post = df.op_post.apply(morph_parse)"
   ]
  },
  {
   "cell_type": "code",
   "execution_count": 5,
   "metadata": {
    "collapsed": true,
    "deletable": true,
    "editable": true
   },
   "outputs": [],
   "source": [
    "MODEL_NAME = '2ch_model'"
   ]
  },
  {
   "cell_type": "markdown",
   "metadata": {
    "deletable": true,
    "editable": true
   },
   "source": [
    "Загрузка Word2Vec-модели"
   ]
  },
  {
   "cell_type": "code",
   "execution_count": 6,
   "metadata": {
    "collapsed": false,
    "deletable": true,
    "editable": true
   },
   "outputs": [],
   "source": [
    "word2vec = Word2Vec.load(path.join('models','word2vec', MODEL_NAME))\n",
    "word2vec_vocab = word2vec.wv.vocab"
   ]
  },
  {
   "cell_type": "code",
   "execution_count": 7,
   "metadata": {
    "collapsed": false,
    "deletable": true,
    "editable": true
   },
   "outputs": [
    {
     "name": "stdout",
     "output_type": "stream",
     "text": [
      "Percent of dropped = 0.5%\n"
     ]
    }
   ],
   "source": [
    "old_len = len(df)\n",
    "\n",
    "def vectorize_message(message1, message2, model, num_features, vocab, make_pca=False, make_sum=False):\n",
    "    tokens1 = make_tokens(message1.lower(), vocab)\n",
    "    tokens2 = make_tokens(message2.lower(), vocab)\n",
    "    if len(tokens1) == 0 or len(tokens2) == 0:\n",
    "        return False\n",
    "    else:\n",
    "        return True\n",
    "\n",
    "for i, m in df.iterrows():\n",
    "    if not vectorize_message(m['post'], m['op_post'], word2vec, 100, word2vec_vocab):\n",
    "        df.drop(i, inplace=True)\n",
    "print('Percent of dropped = {:2.1f}%'.format((old_len - len(df))/old_len*100))\n",
    "df = df.reset_index(drop=True)\n",
    "Y = df.is_related.values"
   ]
  },
  {
   "cell_type": "code",
   "execution_count": 8,
   "metadata": {
    "collapsed": false,
    "deletable": true,
    "editable": true
   },
   "outputs": [],
   "source": [
    "def get_feature_vec(tokens, num_features, model, make_pca, make_sum):\n",
    "    featureVec = np.zeros(shape=(1, num_features), dtype='float32')\n",
    "    for word in tokens:\n",
    "        if model == 'word2vec':\n",
    "            featureVec = np.add(featureVec, word2vec[word])\n",
    "        elif model == 'wang2vec':\n",
    "            featureVec = np.add(featureVec, wang2vec[word])\n",
    "        elif model == 'glove':\n",
    "            featureVec = np.add(featureVec, glove[word])\n",
    "        elif model == 'word2vecf':\n",
    "            try:\n",
    "                featureVec = np.add(featureVec, w2vf.word2vec(word))\n",
    "            except KeyError:\n",
    "                pass\n",
    "        elif model == 'adagram':\n",
    "            featureVec = np.add(featureVec, ada_model.sense_vector(word, get_adagram_sense_prob(ada_model, word)))\n",
    "        elif model == 'fasttext':\n",
    "            featureVec = np.add(featureVec, ft[word])\n",
    "        elif model == 'swivel':\n",
    "            try:\n",
    "                featureVec = np.add(featureVec, np.array(swivel.lookup(word)).squeeze())\n",
    "            except TypeError:\n",
    "                pass\n",
    "    return np.divide(featureVec, len(tokens))"
   ]
  },
  {
   "cell_type": "code",
   "execution_count": 9,
   "metadata": {
    "collapsed": false,
    "deletable": true,
    "editable": true
   },
   "outputs": [],
   "source": [
    "old_err_state = np.seterr(all='raise')\n",
    "\n",
    "def vectorize_message(message1, message2, model, num_features, vocab, make_pca=False, make_sum=False):\n",
    "    tokens1 = make_tokens(message1.lower(), vocab)\n",
    "    tokens2 = make_tokens(message2.lower(), vocab)\n",
    "    fv1 = get_feature_vec(tokens1, num_features, model, make_pca, make_sum)\n",
    "    fv2 = get_feature_vec(tokens2, num_features, model, make_pca, make_sum)\n",
    "    if make_sum:\n",
    "        return fv1.squeeze()+fv2.squeeze()/2\n",
    "    if make_pca:\n",
    "        pca = PCA(n_components=1)\n",
    "        return pca.fit_transform((np.stack((fv1.squeeze(), fv2.squeeze())).T)).squeeze()\n",
    "    else:\n",
    "        return np.hstack((fv1, fv2))"
   ]
  },
  {
   "cell_type": "markdown",
   "metadata": {
    "deletable": true,
    "editable": true
   },
   "source": [
    "Загрузка Glove-модели"
   ]
  },
  {
   "cell_type": "code",
   "execution_count": 10,
   "metadata": {
    "collapsed": false,
    "deletable": true,
    "editable": true
   },
   "outputs": [],
   "source": [
    "def loadGloveModel(gloveFile):\n",
    "    f = open(gloveFile,'r')\n",
    "    model = {}\n",
    "    for line in f:\n",
    "        splitLine = line.split()\n",
    "        word = splitLine[0]\n",
    "        embedding = [float(val) for val in splitLine[1:]]\n",
    "        model[word] = embedding\n",
    "    return model"
   ]
  },
  {
   "cell_type": "code",
   "execution_count": 11,
   "metadata": {
    "collapsed": false,
    "deletable": true,
    "editable": true
   },
   "outputs": [],
   "source": [
    "glove = loadGloveModel(path.join('models', 'glove' , '{}.txt'.format(MODEL_NAME)))"
   ]
  },
  {
   "cell_type": "markdown",
   "metadata": {
    "deletable": true,
    "editable": true
   },
   "source": [
    "Загрузка Wang2Vec-модели"
   ]
  },
  {
   "cell_type": "code",
   "execution_count": 12,
   "metadata": {
    "collapsed": false,
    "deletable": true,
    "editable": true
   },
   "outputs": [],
   "source": [
    "wang2vec = KeyedVectors.load_word2vec_format(path.join('models', 'wang2vec', MODEL_NAME), binary=True)"
   ]
  },
  {
   "cell_type": "markdown",
   "metadata": {
    "deletable": true,
    "editable": true
   },
   "source": [
    "Загрузка Word2Vec-f-модели"
   ]
  },
  {
   "cell_type": "code",
   "execution_count": 13,
   "metadata": {
    "collapsed": false,
    "deletable": true,
    "editable": true
   },
   "outputs": [],
   "source": [
    "w2vf = Word2VecF.load(path.join('models', 'word2vecf', '{}.npy'.format(MODEL_NAME)),\\\n",
    "                      path.join('models', 'word2vecf', '{}.vocab'.format(MODEL_NAME)))"
   ]
  },
  {
   "cell_type": "markdown",
   "metadata": {
    "deletable": true,
    "editable": true
   },
   "source": [
    "Загрузка Adagram-модели"
   ]
  },
  {
   "cell_type": "code",
   "execution_count": 14,
   "metadata": {
    "collapsed": false,
    "deletable": true,
    "editable": true
   },
   "outputs": [],
   "source": [
    "ada_model = adagram.VectorModel.load(path.join('models', 'adagram', '{}.pkl'.format(MODEL_NAME)))"
   ]
  },
  {
   "cell_type": "markdown",
   "metadata": {
    "deletable": true,
    "editable": true
   },
   "source": [
    "Загрузка Swivel-модели"
   ]
  },
  {
   "cell_type": "code",
   "execution_count": 15,
   "metadata": {
    "collapsed": false,
    "deletable": true,
    "editable": true
   },
   "outputs": [],
   "source": [
    "swivel = Swivel(path.join('models', 'swivel', '{}.txt'.format(MODEL_NAME)),\\\n",
    "                path.join('models', 'swivel', '{}.bin'.format(MODEL_NAME)))"
   ]
  },
  {
   "cell_type": "markdown",
   "metadata": {
    "deletable": true,
    "editable": true
   },
   "source": [
    "Загрузка Fasttext-модели"
   ]
  },
  {
   "cell_type": "code",
   "execution_count": 16,
   "metadata": {
    "collapsed": false,
    "deletable": true,
    "editable": true
   },
   "outputs": [],
   "source": [
    "ft = FastText.load_word2vec_format(path.join('models', 'fasttext', '{}.vec'.format(MODEL_NAME)))"
   ]
  },
  {
   "cell_type": "markdown",
   "metadata": {
    "deletable": true,
    "editable": true
   },
   "source": [
    "Получение датасетов"
   ]
  },
  {
   "cell_type": "code",
   "execution_count": 17,
   "metadata": {
    "collapsed": true,
    "deletable": true,
    "editable": true
   },
   "outputs": [],
   "source": [
    "def make_vectors_dataset(model, dim, vocab, make_pca=False, make_sum=False):\n",
    "    multiplier = 2\n",
    "    if make_pca or make_sum:\n",
    "        multiplier = 1\n",
    "    vectors = np.zeros(shape=(len(df), dim*multiplier), dtype='float32')\n",
    "    for i, m in df.iterrows():\n",
    "        vectors[i] = vectorize_message(m['post'], m['op_post'], model, dim, vocab, make_pca, make_sum)\n",
    "    return vectors"
   ]
  },
  {
   "cell_type": "code",
   "execution_count": 18,
   "metadata": {
    "collapsed": false,
    "deletable": true,
    "editable": true
   },
   "outputs": [],
   "source": [
    "vectors_con = dict()\n",
    "vectors_sum = dict()\n",
    "vectors_con_pca = dict()\n",
    "\n",
    "for (model, dim) in [\n",
    "                    ('word2vec', 100),\n",
    "                     ('glove', 100),\n",
    "                     ('wang2vec', 100),\n",
    "                     ('adagram', 100),\n",
    "                     ('word2vecf', 100),\n",
    "                     ('fasttext', 100),\n",
    "                     ('swivel', 100),\n",
    "                     ]:\n",
    "    vectors_con[model] = make_vectors_dataset(model, dim, word2vec_vocab)\n",
    "    vectors_con_pca[model] = make_vectors_dataset(model, dim, word2vec_vocab, True)\n",
    "    vectors_sum[model] = make_vectors_dataset(model, dim, word2vec_vocab, False, True)"
   ]
  },
  {
   "cell_type": "markdown",
   "metadata": {
    "collapsed": true,
    "deletable": true,
    "editable": true
   },
   "source": [
    "Сравнение"
   ]
  },
  {
   "cell_type": "code",
   "execution_count": 19,
   "metadata": {
    "collapsed": false,
    "deletable": true,
    "editable": true
   },
   "outputs": [],
   "source": [
    "SIZE = 25\n",
    "FIGSIZE = (10, 5)\n",
    "PLOT_LIMITS = [0.725, 0.855]\n",
    "\n",
    "def set_plt_params(title):\n",
    "    plt.rc('font',**{'family':'serif','serif':['Times']})\n",
    "    plt.figure(figsize=FIGSIZE)\n",
    "    plt.suptitle(title, fontsize=SIZE)\n",
    "    plt.grid(False)\n",
    "    plt.axes(frameon = 0)\n",
    "    plt.tick_params(labelsize=SIZE)\n",
    "    plt.ylim(PLOT_LIMITS)"
   ]
  },
  {
   "cell_type": "code",
   "execution_count": 20,
   "metadata": {
    "collapsed": true,
    "deletable": true,
    "editable": true
   },
   "outputs": [],
   "source": [
    "results = {'SUM': [], 'CON': [], 'CON+PCA' : []}"
   ]
  },
  {
   "cell_type": "code",
   "execution_count": 21,
   "metadata": {
    "collapsed": false,
    "deletable": true,
    "editable": true
   },
   "outputs": [
    {
     "name": "stderr",
     "output_type": "stream",
     "text": [
      "/home/defeater/.local/lib/python3.5/site-packages/matplotlib/font_manager.py:1297: UserWarning: findfont: Font family ['serif'] not found. Falling back to DejaVu Sans\n",
      "  (prop.get_family(), self.defaultFamily[fontext]))\n",
      "/home/defeater/.local/lib/python3.5/site-packages/matplotlib/font_manager.py:1297: UserWarning: findfont: Font family ['serif'] not found. Falling back to DejaVu Sans\n",
      "  (prop.get_family(), self.defaultFamily[fontext]))\n",
      "/home/defeater/.local/lib/python3.5/site-packages/matplotlib/font_manager.py:1297: UserWarning: findfont: Font family ['serif'] not found. Falling back to DejaVu Sans\n",
      "  (prop.get_family(), self.defaultFamily[fontext]))\n"
     ]
    }
   ],
   "source": [
    "seaborn.set_style('white')\n",
    "\n",
    "CROSS_VAL_FOLDS = 10\n",
    "TEST_CHUNK = 0.01\n",
    "CROSS_VAL_CHUNK = 0.99\n",
    "\n",
    "for NAME, vectors in [\n",
    "                    ('SUM', vectors_sum),\n",
    "                    ('CON', vectors_con),\n",
    "                    ('CON+PCA', vectors_con_pca)\n",
    "                    ]:\n",
    "    set_plt_params(NAME)\n",
    "\n",
    "    for name, markerstyle, colorstyle in [('glove', 'o', 'brown'),\n",
    "                    ('word2vec', 'v', 'blue'),\n",
    "                    ('wang2vec', '^', 'green'),\n",
    "                    ('word2vecf', '<', 'red'),\n",
    "                    ('adagram', '>', 'orange'),\n",
    "                    ('fasttext', 'd', 'lightblue'),\n",
    "                    ('swivel', 'p', 'olive'),\n",
    "                    ]:\n",
    "        estimator = KNeighborsClassifier(n_neighbors = 3, algorithm='brute', metric='cosine')\n",
    "        cv = ShuffleSplit(n_splits=CROSS_VAL_FOLDS, test_size=TEST_CHUNK, random_state=0)\n",
    "        train_sizes=np.linspace(TEST_CHUNK, CROSS_VAL_CHUNK, CROSS_VAL_FOLDS)\n",
    "        train_sizes, train_scores, test_scores = learning_curve(estimator, vectors[name], \n",
    "                                                                Y, cv=cv, train_sizes=train_sizes)\n",
    "        train_scores_mean = np.mean(train_scores, axis=1)\n",
    "        train_scores_std = np.std(train_scores, axis=1)\n",
    "        test_scores_mean = np.mean(test_scores, axis=1)\n",
    "        test_scores_std = np.std(test_scores, axis=1)\n",
    "        results[NAME].append({'model' : name, 'score' : '%.3f' % train_scores_mean[-1]})\n",
    "        plt.plot(train_sizes, train_scores_mean, marker=markerstyle, markersize=15, label=name, linewidth=3, color=colorstyle)\n",
    "\n",
    "    plt.grid(True, axis='y', linewidth=1, color='black')\n",
    "    if NAME == 'CON+PCA':\n",
    "        plt.legend(loc='upper left', bbox_to_anchor=(1,1), prop={'size':SIZE})\n",
    "    plt.savefig('{}.png'.format(NAME), bbox_inches='tight')\n",
    "    #plt.show()"
   ]
  },
  {
   "cell_type": "code",
   "execution_count": 23,
   "metadata": {
    "collapsed": false,
    "deletable": true,
    "editable": true
   },
   "outputs": [
    {
     "data": {
      "text/plain": [
       "{'CON': [{'model': 'glove', 'score': '0.847'},\n",
       "  {'model': 'word2vec', 'score': '0.852'},\n",
       "  {'model': 'wang2vec', 'score': '0.850'},\n",
       "  {'model': 'word2vecf', 'score': '0.787'},\n",
       "  {'model': 'adagram', 'score': '0.819'},\n",
       "  {'model': 'fasttext', 'score': '0.854'},\n",
       "  {'model': 'swivel', 'score': '0.851'}],\n",
       " 'CON+PCA': [{'model': 'glove', 'score': '0.831'},\n",
       "  {'model': 'word2vec', 'score': '0.831'},\n",
       "  {'model': 'wang2vec', 'score': '0.840'},\n",
       "  {'model': 'word2vecf', 'score': '0.809'},\n",
       "  {'model': 'adagram', 'score': '0.790'},\n",
       "  {'model': 'fasttext', 'score': '0.841'},\n",
       "  {'model': 'swivel', 'score': '0.842'}],\n",
       " 'SUM': [{'model': 'glove', 'score': '0.834'},\n",
       "  {'model': 'word2vec', 'score': '0.836'},\n",
       "  {'model': 'wang2vec', 'score': '0.839'},\n",
       "  {'model': 'word2vecf', 'score': '0.782'},\n",
       "  {'model': 'adagram', 'score': '0.805'},\n",
       "  {'model': 'fasttext', 'score': '0.832'},\n",
       "  {'model': 'swivel', 'score': '0.839'}]}"
      ]
     },
     "execution_count": 23,
     "metadata": {},
     "output_type": "execute_result"
    }
   ],
   "source": [
    "results"
   ]
  },
  {
   "cell_type": "markdown",
   "metadata": {
    "collapsed": true,
    "deletable": true,
    "editable": true
   },
   "source": [
    "Сравнение косинусного расстояния"
   ]
  },
  {
   "cell_type": "code",
   "execution_count": 31,
   "metadata": {
    "collapsed": false,
    "deletable": true,
    "editable": true
   },
   "outputs": [
    {
     "data": {
      "text/plain": [
       "0.33010898578441095"
      ]
     },
     "execution_count": 31,
     "metadata": {},
     "output_type": "execute_result"
    }
   ],
   "source": [
    "1 - cosine(ada_model.sense_vector('кошка', get_adagram_sense_prob(ada_model, 'кошка')),\n",
    "                      ada_model.sense_vector('собака', get_adagram_sense_prob(ada_model, 'собака')))"
   ]
  },
  {
   "cell_type": "code",
   "execution_count": 24,
   "metadata": {
    "collapsed": false,
    "deletable": true,
    "editable": true
   },
   "outputs": [
    {
     "data": {
      "text/plain": [
       "0.74432916883114209"
      ]
     },
     "execution_count": 24,
     "metadata": {},
     "output_type": "execute_result"
    }
   ],
   "source": [
    "1 - cosine(ft['кошка'], ft['собака'])"
   ]
  },
  {
   "cell_type": "code",
   "execution_count": 25,
   "metadata": {
    "collapsed": false,
    "deletable": true,
    "editable": true
   },
   "outputs": [
    {
     "data": {
      "text/plain": [
       "0.62079673550182068"
      ]
     },
     "execution_count": 25,
     "metadata": {},
     "output_type": "execute_result"
    }
   ],
   "source": [
    "1 - cosine(glove['кошка'], glove['собака'])"
   ]
  },
  {
   "cell_type": "code",
   "execution_count": 26,
   "metadata": {
    "collapsed": false,
    "deletable": true,
    "editable": true
   },
   "outputs": [
    {
     "data": {
      "text/plain": [
       "0.8286360924350209"
      ]
     },
     "execution_count": 26,
     "metadata": {},
     "output_type": "execute_result"
    }
   ],
   "source": [
    "1 - cosine(word2vec['кошка'], word2vec['собака'])"
   ]
  },
  {
   "cell_type": "code",
   "execution_count": 27,
   "metadata": {
    "collapsed": false,
    "deletable": true,
    "editable": true
   },
   "outputs": [
    {
     "data": {
      "text/plain": [
       "0.80360189848035224"
      ]
     },
     "execution_count": 27,
     "metadata": {},
     "output_type": "execute_result"
    }
   ],
   "source": [
    "1 - cosine(wang2vec['кошка'], wang2vec['собака'])"
   ]
  },
  {
   "cell_type": "code",
   "execution_count": null,
   "metadata": {
    "collapsed": true,
    "deletable": true,
    "editable": true
   },
   "outputs": [],
   "source": []
  }
 ],
 "metadata": {
  "kernelspec": {
   "display_name": "Python 3",
   "language": "python",
   "name": "python3"
  },
  "language_info": {
   "codemirror_mode": {
    "name": "ipython",
    "version": 3
   },
   "file_extension": ".py",
   "mimetype": "text/x-python",
   "name": "python",
   "nbconvert_exporter": "python",
   "pygments_lexer": "ipython3",
   "version": "3.5.3"
  }
 },
 "nbformat": 4,
 "nbformat_minor": 2
}
