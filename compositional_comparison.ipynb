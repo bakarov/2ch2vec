{
 "cells": [
  {
   "cell_type": "code",
   "execution_count": null,
   "metadata": {
    "collapsed": false,
    "deletable": true,
    "editable": true
   },
   "outputs": [],
   "source": [
    "from pandas import read_csv, Series\n",
    "from gensim.models import Word2Vec, KeyedVectors\n",
    "import numpy as np\n",
    "from pickle import load\n",
    "from glove import Glove\n",
    "import adagram\n",
    "from gensim.models.wrappers import FastText, Wordrank\n",
    "from embed_utils import Word2VecF, Swivel, cosine_sim, get_adagram_sense_prob, wv\n",
    "from utils.string_utils import morph_parse, make_tokens\n",
    "from os import path"
   ]
  },
  {
   "cell_type": "code",
   "execution_count": null,
   "metadata": {
    "collapsed": true,
    "deletable": true,
    "editable": true
   },
   "outputs": [],
   "source": [
    "from sklearn.neighbors import KNeighborsClassifier\n",
    "from sklearn.dummy import DummyClassifier\n",
    "from sklearn.metrics import precision_score, recall_score, f1_score\n",
    "from sklearn.calibration import CalibratedClassifierCV, calibration_curve\n",
    "from sklearn.model_selection import learning_curve\n",
    "from sklearn.model_selection import ShuffleSplit\n",
    "from scipy.spatial.distance import cosine\n",
    "from sklearn.decomposition import PCA"
   ]
  },
  {
   "cell_type": "code",
   "execution_count": null,
   "metadata": {
    "collapsed": true,
    "deletable": true,
    "editable": true
   },
   "outputs": [],
   "source": [
    "import matplotlib.pyplot as plt\n",
    "import seaborn\n",
    "import mpltex"
   ]
  },
  {
   "cell_type": "code",
   "execution_count": null,
   "metadata": {
    "collapsed": false,
    "deletable": true,
    "editable": true
   },
   "outputs": [],
   "source": [
    "def get_feature_vec(tokens, num_features, model, make_pca, make_sum):\n",
    "    featureVec = np.zeros(shape=(1, num_features), dtype='float32')\n",
    "    for word in tokens:\n",
    "        if model == 'word2vec':\n",
    "            featureVec = np.add(featureVec, word2vec[word])\n",
    "        elif model == 'wang2vec':\n",
    "            featureVec = np.add(featureVec, wang2vec[word])\n",
    "        elif model == 'glove':\n",
    "            featureVec = np.add(featureVec, wv(glove, word))\n",
    "        elif model == 'word2vecf':\n",
    "            featureVec = np.add(featureVec, w2vf.word2vec(word))\n",
    "        elif model == 'adagram':\n",
    "            featureVec = np.add(featureVec, ada_model.sense_vector(word, get_adagram_sense_prob(ada_model, word)))\n",
    "        elif model == 'fasttext':\n",
    "            featureVec = np.add(featureVec, ft[word])\n",
    "        elif model == 'swivel':\n",
    "            featureVec = np.add(featureVec, np.array(swivel.lookup(word)).squeeze())\n",
    "    if len(tokens) == 0:\n",
    "        return np.zeros(shape=(1, num_features), dtype='float32')\n",
    "    else:\n",
    "        return np.divide(featureVec, len(tokens))"
   ]
  },
  {
   "cell_type": "code",
   "execution_count": null,
   "metadata": {
    "collapsed": false,
    "deletable": true,
    "editable": true
   },
   "outputs": [],
   "source": [
    "old_err_state = np.seterr(all='raise')\n",
    "\n",
    "def vectorize_message(message1, message2, model, num_features, vocab, make_pca=False, make_sum=False):\n",
    "    tokens1 = make_tokens(message1.lower(), vocab)\n",
    "    tokens2 = make_tokens(message2.lower(), vocab)\n",
    "    fv1 = get_feature_vec(tokens1, num_features, model, make_pca, make_sum)\n",
    "    fv2 = get_feature_vec(tokens2, num_features, model, make_pca, make_sum)\n",
    "    if make_sum:\n",
    "        return fv1.squeeze()+fv2.squeeze()/2\n",
    "    if make_pca:\n",
    "        try:\n",
    "            pca = PCA(n_components=1)\n",
    "            return pca.fit_transform((np.stack((fv1.squeeze(), fv2.squeeze())).T)).squeeze()\n",
    "        except FloatingPointError:\n",
    "            return np.zeros(shape=(1, num_features), dtype='float32')\n",
    "    else:\n",
    "        return np.hstack((fv1, fv2))"
   ]
  },
  {
   "cell_type": "code",
   "execution_count": null,
   "metadata": {
    "collapsed": false,
    "deletable": true,
    "editable": true
   },
   "outputs": [],
   "source": [
    "df = read_csv(path.join('sim_datasets', 'dsr.csv'), encoding='cp1251').dropna()\n",
    "df.post = df.post.apply(morph_parse)\n",
    "df.op_post = df.op_post.apply(morph_parse)"
   ]
  },
  {
   "cell_type": "code",
   "execution_count": null,
   "metadata": {
    "collapsed": false,
    "deletable": true,
    "editable": true
   },
   "outputs": [],
   "source": [
    "#df_unl = read_csv('anno2ch/annotated.csv', encoding='cp1251')"
   ]
  },
  {
   "cell_type": "code",
   "execution_count": null,
   "metadata": {
    "collapsed": false,
    "deletable": true,
    "editable": true
   },
   "outputs": [],
   "source": [
    "Y = df.is_related.values"
   ]
  },
  {
   "cell_type": "markdown",
   "metadata": {
    "deletable": true,
    "editable": true
   },
   "source": [
    "Загрузка Word2Vec-модели"
   ]
  },
  {
   "cell_type": "code",
   "execution_count": null,
   "metadata": {
    "collapsed": false,
    "deletable": true,
    "editable": true
   },
   "outputs": [],
   "source": [
    "word2vec = Word2Vec.load(path.join('models','word2vec','all_lem_100'))\n",
    "word2vec_vocab = word2vec.wv.vocab"
   ]
  },
  {
   "cell_type": "markdown",
   "metadata": {
    "deletable": true,
    "editable": true
   },
   "source": [
    "Загрузка Glove-модели"
   ]
  },
  {
   "cell_type": "code",
   "execution_count": null,
   "metadata": {
    "collapsed": false,
    "deletable": true,
    "editable": true
   },
   "outputs": [],
   "source": [
    "with open(path.join('models', 'glove' , 'all_lem_100'), 'rb') as fp:\n",
    "    glove = load(fp)\n",
    "glove_vocab = glove.dictionary"
   ]
  },
  {
   "cell_type": "markdown",
   "metadata": {
    "deletable": true,
    "editable": true
   },
   "source": [
    "Загрузка Wang2Vec-модели"
   ]
  },
  {
   "cell_type": "code",
   "execution_count": null,
   "metadata": {
    "collapsed": false,
    "deletable": true,
    "editable": true
   },
   "outputs": [],
   "source": [
    "wang2vec = KeyedVectors.load_word2vec_format(path.join('models', 'wang2vec', 'wang_skipngram'), binary=True)\n",
    "wang2vec_vocab = wang2vec.vocab"
   ]
  },
  {
   "cell_type": "markdown",
   "metadata": {
    "deletable": true,
    "editable": true
   },
   "source": [
    "Загрузка Word2Vec-f-модели"
   ]
  },
  {
   "cell_type": "code",
   "execution_count": null,
   "metadata": {
    "collapsed": false,
    "deletable": true,
    "editable": true
   },
   "outputs": [],
   "source": [
    "w2vf = Word2VecF.load(path.join('models', 'word2vecf', 'vecs.npy'), path.join('models', 'word2vecf', 'vecs.vocab'))\n",
    "w2vf_vocab = w2vf._vocab"
   ]
  },
  {
   "cell_type": "markdown",
   "metadata": {
    "deletable": true,
    "editable": true
   },
   "source": [
    "Загрузка Adagram-модели"
   ]
  },
  {
   "cell_type": "code",
   "execution_count": null,
   "metadata": {
    "collapsed": false,
    "deletable": true,
    "editable": true
   },
   "outputs": [],
   "source": [
    "ada_model = adagram.VectorModel.load(path.join('models', 'adagram', 'out.pkl'))\n",
    "adagram_vocab = ada_model.dictionary.word2id.keys()"
   ]
  },
  {
   "cell_type": "markdown",
   "metadata": {
    "deletable": true,
    "editable": true
   },
   "source": [
    "Загрузка TF-IDF-модели"
   ]
  },
  {
   "cell_type": "code",
   "execution_count": null,
   "metadata": {
    "collapsed": false,
    "deletable": true,
    "editable": true
   },
   "outputs": [],
   "source": [
    "with open(path.join('models', 'tfidf', 'all_lem'), 'rb') as fp:\n",
    "    bow = load(fp)"
   ]
  },
  {
   "cell_type": "markdown",
   "metadata": {
    "deletable": true,
    "editable": true
   },
   "source": [
    "Загрузка Swivel-модели"
   ]
  },
  {
   "cell_type": "code",
   "execution_count": null,
   "metadata": {
    "collapsed": false,
    "deletable": true,
    "editable": true
   },
   "outputs": [],
   "source": [
    "swivel = Swivel(path.join('models', 'swivel', '2chswivel.txt'), path.join('models', 'swivel', '2chswivel.bin'))\n",
    "swivel_vocab = swivel.vocab"
   ]
  },
  {
   "cell_type": "markdown",
   "metadata": {
    "deletable": true,
    "editable": true
   },
   "source": [
    "Загрузка Fasttext-модели"
   ]
  },
  {
   "cell_type": "code",
   "execution_count": null,
   "metadata": {
    "collapsed": false,
    "deletable": true,
    "editable": true
   },
   "outputs": [],
   "source": [
    "ft = FastText.load_word2vec_format(path.join('models', 'fasttext', '2ch_model_cbow.vec'))\n",
    "ft_vocab = ft.vocab"
   ]
  },
  {
   "cell_type": "markdown",
   "metadata": {
    "deletable": true,
    "editable": true
   },
   "source": [
    "Получение датасетов"
   ]
  },
  {
   "cell_type": "code",
   "execution_count": null,
   "metadata": {
    "collapsed": true,
    "deletable": true,
    "editable": true
   },
   "outputs": [],
   "source": [
    "def make_vectors_dataset(model, vocab, dim, make_pca=False, make_sum=False):\n",
    "    multiplier = 2\n",
    "    if make_pca or make_sum:\n",
    "        multiplier = 1\n",
    "    vectors = np.zeros(shape=(len(df), dim*multiplier), dtype='float32')\n",
    "    for i, m in df.iterrows():\n",
    "        vectors[i] = vectorize_message(m['post'], m['op_post'], model, dim, vocab, make_pca, make_sum)\n",
    "    return vectors"
   ]
  },
  {
   "cell_type": "code",
   "execution_count": null,
   "metadata": {
    "collapsed": false,
    "deletable": true,
    "editable": true
   },
   "outputs": [],
   "source": [
    "vectors_con = dict()\n",
    "vectors_sum = dict()\n",
    "vectors_con_pca = dict()\n",
    "\n",
    "for (model, dim, vocab) in [\n",
    "                    ('word2vec', word2vec_vocab, 100),\n",
    "                     ('glove', glove_vocab, 100),\n",
    "                     ('wang2vec', wang2vec_vocab, 100),\n",
    "                     ('adagram', adagram_vocab, 100),\n",
    "                     ('word2vecf', w2vf_vocab, 100),\n",
    "                     ('fasttext', ft_vocab, 100),\n",
    "                     ('swivel', swivel_vocab, 100),\n",
    "                     ]:\n",
    "    vectors_con[model] = make_vectors_dataset(model, dim, vocab)\n",
    "    vectors_con_pca[model] = make_vectors_dataset(model, dim, vocab, True)\n",
    "    vectors_sum[model] = make_vectors_dataset(model, dim, vocab, False, True)"
   ]
  },
  {
   "cell_type": "markdown",
   "metadata": {
    "collapsed": true,
    "deletable": true,
    "editable": true
   },
   "source": [
    "Сравнение"
   ]
  },
  {
   "cell_type": "code",
   "execution_count": null,
   "metadata": {
    "collapsed": false,
    "deletable": true,
    "editable": true
   },
   "outputs": [],
   "source": [
    "def set_plt_params(title):\n",
    "    title_font = {'size':'80', 'color':'black', 'weight':'normal',\n",
    "                  'verticalalignment':'bottom'} \n",
    "    axis_font = {'size':'80'}\n",
    "    plt.figure(figsize=(20, 10))\n",
    "    plt.suptitle(title, fontsize=50)\n",
    "    plt.grid(False)\n",
    "    plt.axes(frameon = 0)\n",
    "    plt.tick_params(labelsize=40)\n",
    "    #plt.ylim([0.72, 0.8])"
   ]
  },
  {
   "cell_type": "code",
   "execution_count": null,
   "metadata": {
    "collapsed": false,
    "deletable": true,
    "editable": true
   },
   "outputs": [],
   "source": [
    "set_plt_params()\n",
    "results = []\n",
    "\n",
    "seaborn.set_style('white')\n",
    "\n",
    "for name, markerstyle, colorstyle in [('glove', 'o', 'brown'),\n",
    "                ('word2vec', 'v', 'blue'),\n",
    "                ('wang2vec', '^', 'green'),\n",
    "                ('word2vecf', '<', 'red'),\n",
    "                ('adagram', '>', 'orange'),\n",
    "                ('fasttext', 'd', 'magenta'),\n",
    "                ('bow', 'p', 'lightskyblue'),\n",
    "                ('swivel', '.', 'olive'),\n",
    "                ]:\n",
    "    estimator = KNeighborsClassifier(n_neighbors = 3, algorithm='brute', metric='cosine')\n",
    "    cv = ShuffleSplit(n_splits=10, test_size=0.01, random_state=0)\n",
    "    train_sizes=np.linspace(0.01, 0.99, 10)\n",
    "    train_sizes, train_scores, test_scores = learning_curve(estimator, vectors_mo[name], \n",
    "                                                            Y, cv=cv, train_sizes=train_sizes)\n",
    "    train_scores_mean = np.mean(train_scores, axis=1)\n",
    "    train_scores_std = np.std(train_scores, axis=1)\n",
    "    test_scores_mean = np.mean(test_scores, axis=1)\n",
    "    test_scores_std = np.std(test_scores, axis=1)\n",
    "    results.append({'model' : name, 'score' : train_scores_mean})\n",
    "    plt.plot(train_sizes, train_scores_mean, marker=markerstyle, markersize=18, label=name, linewidth=5, color=colorstyle)\n",
    "\n",
    "plt.grid(True, axis='y', linewidth=1, color='black')\n",
    "plt.savefig('classifiers_concat.png', bbox_inches='tight')\n",
    "plt.legend(loc='best')\n",
    "plt.show()"
   ]
  },
  {
   "cell_type": "code",
   "execution_count": null,
   "metadata": {
    "collapsed": false,
    "deletable": true,
    "editable": true
   },
   "outputs": [],
   "source": [
    "set_plt_params('CON+PCA')\n",
    "results = []\n",
    "\n",
    "seaborn.set_style('white')\n",
    "\n",
    "for name, markerstyle, colorstyle in [('glove', 'o', 'brown'),\n",
    "                ('word2vec', 'v', 'blue'),\n",
    "                ('wang2vec', '^', 'green'),\n",
    "                ('word2vecf', '<', 'red'),\n",
    "                ('adagram', '>', 'orange'),\n",
    "                ('fasttext', 'd', 'magenta'),\n",
    "                ('swivel', '.', 'olive'),\n",
    "                ]:\n",
    "    estimator = KNeighborsClassifier(n_neighbors = 3, algorithm='brute', metric='cosine')\n",
    "    cv = ShuffleSplit(n_splits=10, test_size=0.01, random_state=0)\n",
    "    train_sizes=np.linspace(0.01, 0.99, 10)\n",
    "    train_sizes, train_scores, test_scores = learning_curve(estimator, vectors_con_pca[name], \n",
    "                                                            Y, cv=cv, train_sizes=train_sizes)\n",
    "    train_scores_mean = np.mean(train_scores, axis=1)\n",
    "    train_scores_std = np.std(train_scores, axis=1)\n",
    "    test_scores_mean = np.mean(test_scores, axis=1)\n",
    "    test_scores_std = np.std(test_scores, axis=1)\n",
    "    results.append({'model' : name, 'score' : train_scores_mean})\n",
    "    plt.plot(train_sizes, train_scores_mean, marker=markerstyle, markersize=18, label=name, linewidth=5, color=colorstyle)\n",
    "\n",
    "plt.grid(True, axis='y', linewidth=1, color='black')\n",
    "plt.savefig('classifiers_sum.png', bbox_inches='tight')\n",
    "plt.legend(loc='best')\n",
    "plt.show()"
   ]
  },
  {
   "cell_type": "code",
   "execution_count": null,
   "metadata": {
    "collapsed": true
   },
   "outputs": [],
   "source": []
  }
 ],
 "metadata": {
  "kernelspec": {
   "display_name": "Python 3",
   "language": "python",
   "name": "python3"
  },
  "language_info": {
   "codemirror_mode": {
    "name": "ipython",
    "version": 3
   },
   "file_extension": ".py",
   "mimetype": "text/x-python",
   "name": "python",
   "nbconvert_exporter": "python",
   "pygments_lexer": "ipython3",
   "version": "3.5.3"
  }
 },
 "nbformat": 4,
 "nbformat_minor": 2
}
