{
 "cells": [
  {
   "cell_type": "code",
   "execution_count": 1,
   "metadata": {
    "collapsed": true,
    "deletable": true,
    "editable": true
   },
   "outputs": [],
   "source": [
    "from os import path, makedirs\n",
    "from pickle import dump, load\n",
    "from re import compile, sub\n",
    "from requests import get, exceptions\n",
    "from itertools import chain\n",
    "from nltk.tokenize import sent_tokenize\n",
    "from json import JSONDecodeError\n",
    "from pandas import DataFrame, concat"
   ]
  },
  {
   "cell_type": "markdown",
   "metadata": {
    "deletable": true,
    "editable": true
   },
   "source": [
    "Регулярки"
   ]
  },
  {
   "cell_type": "code",
   "execution_count": 2,
   "metadata": {
    "collapsed": true,
    "deletable": true,
    "editable": true
   },
   "outputs": [],
   "source": [
    "def cut(data):\n",
    "    r = compile(r'<.*?>|>>\\d*|\\(OP\\)|&#(\\d*);|&quot;|&gt;|(http|https):.*')\n",
    "    return r.sub('', punctuate_word(punctuate_sent((data))))\n",
    "\n",
    "def punctuate_sent(data):\n",
    "    r = compile(r'([a-zA-Zа-яА-Я])([.!\\?])')\n",
    "    return r.sub(r'\\1. ', data)\n",
    "\n",
    "def punctuate_word(data):\n",
    "    r = compile(r'([a-zA-Zа-яА-Я])([,])')\n",
    "    return r.sub(r'\\1, ', data)"
   ]
  },
  {
   "cell_type": "markdown",
   "metadata": {
    "deletable": true,
    "editable": true
   },
   "source": [
    "Получение списка тредов доски"
   ]
  },
  {
   "cell_type": "code",
   "execution_count": 5,
   "metadata": {
    "collapsed": true,
    "deletable": true,
    "editable": true
   },
   "outputs": [],
   "source": [
    "BOARD = 'pr'"
   ]
  },
  {
   "cell_type": "code",
   "execution_count": 6,
   "metadata": {
    "collapsed": false,
    "deletable": true,
    "editable": true
   },
   "outputs": [],
   "source": [
    "DVACH = 'https://2ch.hk/'\n",
    "\n",
    "try:\n",
    "    dvach_page = get(DVACH + BOARD + '/catalog.json').json()\n",
    "    threads = [i['num'] for i in dvach_page['threads']]\n",
    "except:\n",
    "    print('No board with such name.')"
   ]
  },
  {
   "cell_type": "markdown",
   "metadata": {
    "deletable": true,
    "editable": true
   },
   "source": [
    "Формирование корпуса сообщений доски"
   ]
  },
  {
   "cell_type": "code",
   "execution_count": 7,
   "metadata": {
    "collapsed": false,
    "deletable": true,
    "editable": true
   },
   "outputs": [],
   "source": [
    "comments = []\n",
    "\n",
    "for every_thread in threads:\n",
    "    try:\n",
    "        thread = get(DVACH +  BOARD + '/res/' + every_thread + '.json', timeout=5).json()\n",
    "        [comments.append(sent_tokenize(cut(i['comment']))) for i in thread['threads'][0]['posts'] if len(cut(i['comment'])) > 2]\n",
    "    except:\n",
    "        pass\n",
    "    \n",
    "comments = list(chain.from_iterable(comments))"
   ]
  },
  {
   "cell_type": "markdown",
   "metadata": {
    "deletable": true,
    "editable": true
   },
   "source": [
    "Получение датафрейма"
   ]
  },
  {
   "cell_type": "code",
   "execution_count": 8,
   "metadata": {
    "collapsed": false,
    "deletable": true,
    "editable": true
   },
   "outputs": [],
   "source": [
    "df = DataFrame()\n",
    "df['comment'] = comments\n",
    "df.index.names = ['comment_id']"
   ]
  },
  {
   "cell_type": "markdown",
   "metadata": {
    "deletable": true,
    "editable": true
   },
   "source": [
    "Загрузка старого корпуса и мердж"
   ]
  },
  {
   "cell_type": "code",
   "execution_count": 10,
   "metadata": {
    "collapsed": true
   },
   "outputs": [],
   "source": [
    "subdir = 'pickle'"
   ]
  },
  {
   "cell_type": "code",
   "execution_count": 11,
   "metadata": {
    "collapsed": false,
    "deletable": true,
    "editable": true
   },
   "outputs": [],
   "source": [
    "try:\n",
    "    file_path = path.join(subdir, BOARD + '.csv')\n",
    "    old_df = DataFrame.from_csv(file_path)\n",
    "    df = concat((df, old_df)).drop_duplicates()\n",
    "except FileNotFoundError:\n",
    "    print('No pre-serialized data!')"
   ]
  },
  {
   "cell_type": "markdown",
   "metadata": {
    "deletable": true,
    "editable": true
   },
   "source": [
    "Сериализация корпуса"
   ]
  },
  {
   "cell_type": "code",
   "execution_count": 12,
   "metadata": {
    "collapsed": false,
    "deletable": true,
    "editable": true
   },
   "outputs": [],
   "source": [
    "if not path.exists(subdir):\n",
    "    makedirs(subdir)\n",
    "file_path = path.join(subdir, BOARD + '.csv')\n",
    "\n",
    "df.to_csv(file_path)"
   ]
  },
  {
   "cell_type": "code",
   "execution_count": 16,
   "metadata": {
    "collapsed": false,
    "deletable": true,
    "editable": true
   },
   "outputs": [
    {
     "name": "stdout",
     "output_type": "stream",
     "text": [
      "аб\n"
     ]
    }
   ],
   "source": [
    "def foo(moo, zoo):\n",
    "    return moo, zoo\n",
    "    \n",
    "def boo(moo, zoo):\n",
    "    return moo, zoo\n",
    "    \n",
    "def roo(moo, zoo):\n",
    "    print(moo + zoo)\n",
    "    \n",
    "roo(*foo(*boo('а', 'б')))"
   ]
  },
  {
   "cell_type": "code",
   "execution_count": null,
   "metadata": {
    "collapsed": true
   },
   "outputs": [],
   "source": []
  }
 ],
 "metadata": {
  "kernelspec": {
   "display_name": "Python 3",
   "language": "python",
   "name": "python3"
  },
  "language_info": {
   "codemirror_mode": {
    "name": "ipython",
    "version": 3
   },
   "file_extension": ".py",
   "mimetype": "text/x-python",
   "name": "python",
   "nbconvert_exporter": "python",
   "pygments_lexer": "ipython3",
   "version": "3.5.3"
  }
 },
 "nbformat": 4,
 "nbformat_minor": 2
}
