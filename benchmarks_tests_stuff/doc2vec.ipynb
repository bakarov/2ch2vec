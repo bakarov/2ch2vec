{
 "cells": [
  {
   "cell_type": "code",
   "execution_count": 1,
   "metadata": {
    "collapsed": true
   },
   "outputs": [],
   "source": [
    "from re import sub, compile\n",
    "from requests import get, exceptions\n",
    "from pandas import DataFrame, set_option\n",
    "import numpy as np\n",
    "import seaborn as sns\n",
    "from pylab import rcParams, savefig\n",
    "import matplotlib\n",
    "from gensim.utils import tokenize\n",
    "from gensim.models import doc2vec\n",
    "from nltk import sent_tokenize\n",
    "from itertools import chain\n",
    "from nltk.tokenize import wordpunct_tokenize, RegexpTokenizer\n",
    "from nltk.corpus import stopwords\n",
    "from sklearn.feature_extraction.text import TfidfVectorizer\n",
    "from gensim import models, corpora\n",
    "from pymorphy2 import MorphAnalyzer\n",
    "from pickle import load\n",
    "from collections import namedtuple\n",
    "morph = MorphAnalyzer()"
   ]
  },
  {
   "cell_type": "code",
   "execution_count": 2,
   "metadata": {
    "collapsed": true
   },
   "outputs": [],
   "source": [
    "documents = load(open('pickle/pr.pickle', 'rb'))"
   ]
  },
  {
   "cell_type": "code",
   "execution_count": 4,
   "metadata": {
    "collapsed": false
   },
   "outputs": [],
   "source": [
    "docs = []\n",
    "analyzedDocument = namedtuple('LabeledSentence', 'words tags')\n",
    "for i, text in enumerate(documents):\n",
    "    words = text.lower().split()\n",
    "    labels = [i]\n",
    "    docs.append(analyzedDocument(words, labels))"
   ]
  },
  {
   "cell_type": "code",
   "execution_count": 5,
   "metadata": {
    "collapsed": false
   },
   "outputs": [
    {
     "data": {
      "text/plain": [
       "9468679"
      ]
     },
     "execution_count": 5,
     "metadata": {},
     "output_type": "execute_result"
    }
   ],
   "source": [
    "model = doc2vec.Doc2Vec(size=30, window=8, min_count=0, workers=4)\n",
    "model.build_vocab(docs)\n",
    "model.train(docs)"
   ]
  },
  {
   "cell_type": "code",
   "execution_count": null,
   "metadata": {
    "collapsed": true
   },
   "outputs": [],
   "source": []
  }
 ],
 "metadata": {
  "kernelspec": {
   "display_name": "Python 3",
   "language": "python",
   "name": "python3"
  },
  "language_info": {
   "codemirror_mode": {
    "name": "ipython",
    "version": 3
   },
   "file_extension": ".py",
   "mimetype": "text/x-python",
   "name": "python",
   "nbconvert_exporter": "python",
   "pygments_lexer": "ipython3",
   "version": "3.5.3"
  }
 },
 "nbformat": 4,
 "nbformat_minor": 2
}
