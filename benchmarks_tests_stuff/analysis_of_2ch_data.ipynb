{
 "cells": [
  {
   "cell_type": "markdown",
   "metadata": {
    "deletable": true,
    "editable": true
   },
   "source": [
    "Загрузка модулей"
   ]
  },
  {
   "cell_type": "code",
   "execution_count": 1,
   "metadata": {
    "collapsed": false,
    "deletable": true,
    "editable": true
   },
   "outputs": [],
   "source": [
    "from re import sub, compile\n",
    "from pandas import DataFrame, Series\n",
    "import numpy as np\n",
    "from itertools import chain\n",
    "\n",
    "from gensim import models, corpora\n",
    "from gensim.utils import tokenize\n",
    "from gensim.models import Word2Vec\n",
    "\n",
    "from nltk import sent_tokenize, word_tokenize\n",
    "from nltk.tokenize import wordpunct_tokenize, RegexpTokenizer\n",
    "from nltk.corpus import stopwords\n",
    "\n",
    "from pickle import load\n",
    "from requests import get\n",
    "from json import JSONDecodeError\n",
    "\n",
    "from sklearn.manifold import TSNE\n",
    "from sklearn.feature_extraction.text import TfidfVectorizer\n",
    "from sklearn.cluster import KMeans\n",
    "from sklearn.decomposition import PCA\n",
    "\n",
    "from matplotlib.pylab import rcParams, savefig\n",
    "import matplotlib.cm as cm\n",
    "import matplotlib.pyplot as plt\n",
    "import matplotlib.patches as mpatches\n",
    "import seaborn \n",
    "\n",
    "from pymorphy2 import MorphAnalyzer\n",
    "morph = MorphAnalyzer()"
   ]
  },
  {
   "cell_type": "markdown",
   "metadata": {
    "deletable": true,
    "editable": true
   },
   "source": [
    "Хэндкрафтед-стоп-слова"
   ]
  },
  {
   "cell_type": "code",
   "execution_count": 2,
   "metadata": {
    "collapsed": false,
    "deletable": true,
    "editable": true
   },
   "outputs": [],
   "source": [
    "stop = {'весь', 'всякий', 'тот', 'это', 'самое', 'каким', 'сама', 'никак', 'она', 'она', 'оно', 'какие', 'какого', 'которая', 'многое', 'чему', 'всему', 'раза', 'сразу', 'весь', 'раз', 'пор', 'например', 'вроде', 'которые', 'который', 'просто', 'очень', 'почему', 'вообще', 'ещё', 'типа', 'ради', 'всё', 'хотя', 'тебе', 'нужно', 'пока',\\\n",
    "'сделать', 'можешь', 'могу', 'могут', 'делать', 'будешь', 'быть', 'будут', 'смочь', 'поэтому', 'то', 'что', 'какой', 'как', 'кто'}"
   ]
  },
  {
   "cell_type": "code",
   "execution_count": 3,
   "metadata": {
    "collapsed": false,
    "deletable": true,
    "editable": true
   },
   "outputs": [],
   "source": [
    "stop = stop.union(set(stopwords.words('russian')))"
   ]
  },
  {
   "cell_type": "markdown",
   "metadata": {
    "deletable": true,
    "editable": true
   },
   "source": [
    "Загрузка регулярок"
   ]
  },
  {
   "cell_type": "code",
   "execution_count": 4,
   "metadata": {
    "collapsed": true,
    "deletable": true,
    "editable": true
   },
   "outputs": [],
   "source": [
    "from re import sub, compile\n",
    "\n",
    "def cut(data):\n",
    "    r = compile(r'<.*?>|>>\\d*|\\(OP\\)|&#(\\d*);|&quot;|&gt;|(http|https):.*')\n",
    "    return r.sub('', data).strip()\n",
    "\n",
    "def pos_cut(s):\n",
    "    s = sub(r\"ADJF\", \"ADJ\", s)\n",
    "    s = sub(r\"ADVB\", \"ADV\", s)\n",
    "    s = sub(r\"INFN\", \"VERB\", s)\n",
    "    return s\n",
    "\n",
    "def topic_cut(word):\n",
    "    return sub('[^a-zA-Zа-яА-Я]', '', word)\n",
    "\n",
    "def check_for_rus_lan(word):\n",
    "    regex = compile('[А-Яа-я]+$')\n",
    "    if regex.match(word):\n",
    "        return True\n",
    "    return False\n",
    "\n",
    "def check_dirty(word):\n",
    "    regexp = compile(r'уеб|хуё|ёб|пидо|иби|хуй|еба|бля|еби|хуе|хуи|пиз|срал|velf|оеб|ебаш|ебст|муд')\n",
    "    if regexp.search(word):\n",
    "          return True\n",
    "    return False"
   ]
  },
  {
   "cell_type": "markdown",
   "metadata": {
    "deletable": true,
    "editable": true
   },
   "source": [
    "Загрузка случайного пула постов и получение их длин"
   ]
  },
  {
   "cell_type": "code",
   "execution_count": 5,
   "metadata": {
    "collapsed": false,
    "deletable": true,
    "editable": true
   },
   "outputs": [],
   "source": [
    "def load_threads(board='b'):\n",
    "   # try:\n",
    "    dvach_page = get('https://2ch.hk/' + board + '/catalog.json').json()\n",
    "    return [i['num'] for i in dvach_page['threads']], board\n",
    "   # except:\n",
    "        # raise Exception('Could not find the specified board') \n",
    "\n",
    "\n",
    "def load_comments(threads, board='b'):\n",
    "    comments = []\n",
    "    for every_thread in threads:\n",
    "        try:\n",
    "            thread = get('https://2ch.hk/' + board + '/res/' + every_thread + '.json', timeout=5).json()\n",
    "            [comments.append(sent_tokenize(cut(i['comment']))) for i in thread['threads'][0]['posts'] if\n",
    "            len(cut(i['comment'])) > 2]\n",
    "        except JSONDecodeError:\n",
    "            pass\n",
    "    return list(chain.from_iterable(comments))\n",
    "\n",
    "posts = load_comments(*load_threads('b'))\n",
    "posts_lengths = list(map(lambda i: len(i), posts))"
   ]
  },
  {
   "cell_type": "markdown",
   "metadata": {
    "deletable": true,
    "editable": true
   },
   "source": [
    "Отрисовка графика длин постов"
   ]
  },
  {
   "cell_type": "code",
   "execution_count": 6,
   "metadata": {
    "collapsed": false,
    "deletable": true,
    "editable": true
   },
   "outputs": [
    {
     "data": {
      "text/plain": [
       "<matplotlib.axes._subplots.AxesSubplot at 0x7fd0475f4da0>"
      ]
     },
     "execution_count": 6,
     "metadata": {},
     "output_type": "execute_result"
    }
   ],
   "source": [
    "plt.figure(figsize=(20, 20))\n",
    "seaborn.set_style('whitegrid')\n",
    "plt.grid(False)\n",
    "seaborn.distplot(posts_lengths, bins=100, rug=False, hist=False, color='black')"
   ]
  },
  {
   "cell_type": "markdown",
   "metadata": {
    "deletable": true,
    "editable": true
   },
   "source": [
    "Очистка постов от стоп-слов"
   ]
  },
  {
   "cell_type": "code",
   "execution_count": 8,
   "metadata": {
    "collapsed": false,
    "deletable": true,
    "editable": true
   },
   "outputs": [],
   "source": [
    "posts = [' '.join([word.lower() for word in word_tokenize(post) if word.lower() not in stop and not check_dirty(word.lower())]) for post in posts]"
   ]
  },
  {
   "cell_type": "markdown",
   "metadata": {},
   "source": [
    "Получение числа употреблений каждого слова в наборе постов"
   ]
  },
  {
   "cell_type": "code",
   "execution_count": 9,
   "metadata": {
    "collapsed": false,
    "deletable": true,
    "editable": true
   },
   "outputs": [],
   "source": [
    "NOT_IN_DICT = '<FakeDictionary>'\n",
    "words_dict = {}\n",
    "\n",
    "for text in posts:\n",
    "    for word in tokenize(text):\n",
    "        normal_word = morph.parse(word)[0].normal_form\n",
    "        if len(word) > 2 and not check_dirty(word) and str(morph.parse(word)[0].methods_stack[0][0]) == NOT_IN_DICT:\n",
    "            if normal_word not in words_dict:\n",
    "                words_dict[normal_word] = 0\n",
    "            else:\n",
    "                words_dict[normal_word] += 1"
   ]
  },
  {
   "cell_type": "markdown",
   "metadata": {
    "deletable": true,
    "editable": true
   },
   "source": [
    "Подсчёт частоты использования слов "
   ]
  },
  {
   "cell_type": "code",
   "execution_count": 10,
   "metadata": {
    "collapsed": false,
    "deletable": true,
    "editable": true
   },
   "outputs": [],
   "source": [
    "df = DataFrame.from_dict(words_dict, orient='index').reset_index()\n",
    "df.columns = ['word', 'frequency']\n",
    "df = df.sort_values(by=['frequency', 'word'], ascending=False).reset_index()\n",
    "percentage = []\n",
    "for i in df.frequency:\n",
    "    percentage.append(round(i/sum(posts_lengths)*100,4))\n",
    "df['percentage'] = Series(percentage, index=df.index)"
   ]
  },
  {
   "cell_type": "code",
   "execution_count": 11,
   "metadata": {
    "collapsed": false,
    "deletable": true,
    "editable": true
   },
   "outputs": [
    {
     "data": {
      "text/html": [
       "<div>\n",
       "<table border=\"1\" class=\"dataframe\">\n",
       "  <thead>\n",
       "    <tr style=\"text-align: right;\">\n",
       "      <th></th>\n",
       "      <th>index</th>\n",
       "      <th>word</th>\n",
       "      <th>frequency</th>\n",
       "      <th>percentage</th>\n",
       "    </tr>\n",
       "  </thead>\n",
       "  <tbody>\n",
       "    <tr>\n",
       "      <th>0</th>\n",
       "      <td>323</td>\n",
       "      <td>бампа</td>\n",
       "      <td>457</td>\n",
       "      <td>0.0249</td>\n",
       "    </tr>\n",
       "    <tr>\n",
       "      <th>1</th>\n",
       "      <td>2903</td>\n",
       "      <td>двач</td>\n",
       "      <td>177</td>\n",
       "      <td>0.0096</td>\n",
       "    </tr>\n",
       "    <tr>\n",
       "      <th>2</th>\n",
       "      <td>3742</td>\n",
       "      <td>ести</td>\n",
       "      <td>53</td>\n",
       "      <td>0.0029</td>\n",
       "    </tr>\n",
       "    <tr>\n",
       "      <th>3</th>\n",
       "      <td>2194</td>\n",
       "      <td>алсый</td>\n",
       "      <td>53</td>\n",
       "      <td>0.0029</td>\n",
       "    </tr>\n",
       "    <tr>\n",
       "      <th>4</th>\n",
       "      <td>552</td>\n",
       "      <td>всратый</td>\n",
       "      <td>45</td>\n",
       "      <td>0.0024</td>\n",
       "    </tr>\n",
       "    <tr>\n",
       "      <th>5</th>\n",
       "      <td>720</td>\n",
       "      <td>омёжка</td>\n",
       "      <td>36</td>\n",
       "      <td>0.0020</td>\n",
       "    </tr>\n",
       "    <tr>\n",
       "      <th>6</th>\n",
       "      <td>253</td>\n",
       "      <td>няшный</td>\n",
       "      <td>36</td>\n",
       "      <td>0.0020</td>\n",
       "    </tr>\n",
       "    <tr>\n",
       "      <th>7</th>\n",
       "      <td>4571</td>\n",
       "      <td>типо</td>\n",
       "      <td>32</td>\n",
       "      <td>0.0017</td>\n",
       "    </tr>\n",
       "    <tr>\n",
       "      <th>8</th>\n",
       "      <td>2200</td>\n",
       "      <td>скилла</td>\n",
       "      <td>28</td>\n",
       "      <td>0.0015</td>\n",
       "    </tr>\n",
       "    <tr>\n",
       "      <th>9</th>\n",
       "      <td>160</td>\n",
       "      <td>рашка</td>\n",
       "      <td>28</td>\n",
       "      <td>0.0015</td>\n",
       "    </tr>\n",
       "    <tr>\n",
       "      <th>10</th>\n",
       "      <td>2295</td>\n",
       "      <td>инф</td>\n",
       "      <td>27</td>\n",
       "      <td>0.0015</td>\n",
       "    </tr>\n",
       "    <tr>\n",
       "      <th>11</th>\n",
       "      <td>4892</td>\n",
       "      <td>бабнуть</td>\n",
       "      <td>27</td>\n",
       "      <td>0.0015</td>\n",
       "    </tr>\n",
       "    <tr>\n",
       "      <th>12</th>\n",
       "      <td>1367</td>\n",
       "      <td>пруф</td>\n",
       "      <td>25</td>\n",
       "      <td>0.0014</td>\n",
       "    </tr>\n",
       "    <tr>\n",
       "      <th>13</th>\n",
       "      <td>663</td>\n",
       "      <td>пикрелейтед</td>\n",
       "      <td>25</td>\n",
       "      <td>0.0014</td>\n",
       "    </tr>\n",
       "    <tr>\n",
       "      <th>14</th>\n",
       "      <td>3577</td>\n",
       "      <td>милф</td>\n",
       "      <td>25</td>\n",
       "      <td>0.0014</td>\n",
       "    </tr>\n",
       "    <tr>\n",
       "      <th>15</th>\n",
       "      <td>3149</td>\n",
       "      <td>альфач</td>\n",
       "      <td>25</td>\n",
       "      <td>0.0014</td>\n",
       "    </tr>\n",
       "    <tr>\n",
       "      <th>16</th>\n",
       "      <td>4046</td>\n",
       "      <td>ебучий</td>\n",
       "      <td>23</td>\n",
       "      <td>0.0013</td>\n",
       "    </tr>\n",
       "    <tr>\n",
       "      <th>17</th>\n",
       "      <td>2760</td>\n",
       "      <td>ващий</td>\n",
       "      <td>21</td>\n",
       "      <td>0.0011</td>\n",
       "    </tr>\n",
       "    <tr>\n",
       "      <th>18</th>\n",
       "      <td>3950</td>\n",
       "      <td>куколд</td>\n",
       "      <td>20</td>\n",
       "      <td>0.0011</td>\n",
       "    </tr>\n",
       "    <tr>\n",
       "      <th>19</th>\n",
       "      <td>3319</td>\n",
       "      <td>вангуй</td>\n",
       "      <td>20</td>\n",
       "      <td>0.0011</td>\n",
       "    </tr>\n",
       "    <tr>\n",
       "      <th>20</th>\n",
       "      <td>3227</td>\n",
       "      <td>сраный</td>\n",
       "      <td>19</td>\n",
       "      <td>0.0010</td>\n",
       "    </tr>\n",
       "    <tr>\n",
       "      <th>21</th>\n",
       "      <td>2718</td>\n",
       "      <td>юзать</td>\n",
       "      <td>18</td>\n",
       "      <td>0.0010</td>\n",
       "    </tr>\n",
       "    <tr>\n",
       "      <th>22</th>\n",
       "      <td>707</td>\n",
       "      <td>тащемт</td>\n",
       "      <td>18</td>\n",
       "      <td>0.0010</td>\n",
       "    </tr>\n",
       "    <tr>\n",
       "      <th>23</th>\n",
       "      <td>688</td>\n",
       "      <td>вебм</td>\n",
       "      <td>18</td>\n",
       "      <td>0.0010</td>\n",
       "    </tr>\n",
       "    <tr>\n",
       "      <th>24</th>\n",
       "      <td>4124</td>\n",
       "      <td>биткоина</td>\n",
       "      <td>18</td>\n",
       "      <td>0.0010</td>\n",
       "    </tr>\n",
       "    <tr>\n",
       "      <th>25</th>\n",
       "      <td>977</td>\n",
       "      <td>баттл</td>\n",
       "      <td>18</td>\n",
       "      <td>0.0010</td>\n",
       "    </tr>\n",
       "    <tr>\n",
       "      <th>26</th>\n",
       "      <td>3800</td>\n",
       "      <td>батлы</td>\n",
       "      <td>18</td>\n",
       "      <td>0.0010</td>\n",
       "    </tr>\n",
       "    <tr>\n",
       "      <th>27</th>\n",
       "      <td>3705</td>\n",
       "      <td>сосач</td>\n",
       "      <td>17</td>\n",
       "      <td>0.0009</td>\n",
       "    </tr>\n",
       "    <tr>\n",
       "      <th>28</th>\n",
       "      <td>4129</td>\n",
       "      <td>пикч</td>\n",
       "      <td>17</td>\n",
       "      <td>0.0009</td>\n",
       "    </tr>\n",
       "    <tr>\n",
       "      <th>29</th>\n",
       "      <td>2991</td>\n",
       "      <td>короткоствол</td>\n",
       "      <td>17</td>\n",
       "      <td>0.0009</td>\n",
       "    </tr>\n",
       "    <tr>\n",
       "      <th>...</th>\n",
       "      <td>...</td>\n",
       "      <td>...</td>\n",
       "      <td>...</td>\n",
       "      <td>...</td>\n",
       "    </tr>\n",
       "    <tr>\n",
       "      <th>5262</th>\n",
       "      <td>5165</td>\n",
       "      <td>kaggleнебосить</td>\n",
       "      <td>0</td>\n",
       "      <td>0.0000</td>\n",
       "    </tr>\n",
       "    <tr>\n",
       "      <th>5263</th>\n",
       "      <td>3195</td>\n",
       "      <td>jонить</td>\n",
       "      <td>0</td>\n",
       "      <td>0.0000</td>\n",
       "    </tr>\n",
       "    <tr>\n",
       "      <th>5264</th>\n",
       "      <td>1666</td>\n",
       "      <td>jpgподкинт</td>\n",
       "      <td>0</td>\n",
       "      <td>0.0000</td>\n",
       "    </tr>\n",
       "    <tr>\n",
       "      <th>5265</th>\n",
       "      <td>392</td>\n",
       "      <td>jpeg</td>\n",
       "      <td>0</td>\n",
       "      <td>0.0000</td>\n",
       "    </tr>\n",
       "    <tr>\n",
       "      <th>5266</th>\n",
       "      <td>3997</td>\n",
       "      <td>iphone</td>\n",
       "      <td>0</td>\n",
       "      <td>0.0000</td>\n",
       "    </tr>\n",
       "    <tr>\n",
       "      <th>5267</th>\n",
       "      <td>4676</td>\n",
       "      <td>hsэтый</td>\n",
       "      <td>0</td>\n",
       "      <td>0.0000</td>\n",
       "    </tr>\n",
       "    <tr>\n",
       "      <th>5268</th>\n",
       "      <td>364</td>\n",
       "      <td>guyс</td>\n",
       "      <td>0</td>\n",
       "      <td>0.0000</td>\n",
       "    </tr>\n",
       "    <tr>\n",
       "      <th>5269</th>\n",
       "      <td>3442</td>\n",
       "      <td>gbт</td>\n",
       "      <td>0</td>\n",
       "      <td>0.0000</td>\n",
       "    </tr>\n",
       "    <tr>\n",
       "      <th>5270</th>\n",
       "      <td>2562</td>\n",
       "      <td>fovhести</td>\n",
       "      <td>0</td>\n",
       "      <td>0.0000</td>\n",
       "    </tr>\n",
       "    <tr>\n",
       "      <th>5271</th>\n",
       "      <td>3835</td>\n",
       "      <td>feelестись</td>\n",
       "      <td>0</td>\n",
       "      <td>0.0000</td>\n",
       "    </tr>\n",
       "    <tr>\n",
       "      <th>5272</th>\n",
       "      <td>2531</td>\n",
       "      <td>fapafgфапафздрочий</td>\n",
       "      <td>0</td>\n",
       "      <td>0.0000</td>\n",
       "    </tr>\n",
       "    <tr>\n",
       "      <th>5273</th>\n",
       "      <td>2103</td>\n",
       "      <td>ezqoмимонищийанон</td>\n",
       "      <td>0</td>\n",
       "      <td>0.0000</td>\n",
       "    </tr>\n",
       "    <tr>\n",
       "      <th>5274</th>\n",
       "      <td>2309</td>\n",
       "      <td>ever</td>\n",
       "      <td>0</td>\n",
       "      <td>0.0000</td>\n",
       "    </tr>\n",
       "    <tr>\n",
       "      <th>5275</th>\n",
       "      <td>124</td>\n",
       "      <td>eemjxecпасибо</td>\n",
       "      <td>0</td>\n",
       "      <td>0.0000</td>\n",
       "    </tr>\n",
       "    <tr>\n",
       "      <th>5276</th>\n",
       "      <td>2359</td>\n",
       "      <td>dоно</td>\n",
       "      <td>0</td>\n",
       "      <td>0.0000</td>\n",
       "    </tr>\n",
       "    <tr>\n",
       "      <th>5277</th>\n",
       "      <td>4106</td>\n",
       "      <td>cпиннер</td>\n",
       "      <td>0</td>\n",
       "      <td>0.0000</td>\n",
       "    </tr>\n",
       "    <tr>\n",
       "      <th>5278</th>\n",
       "      <td>3575</td>\n",
       "      <td>cоусый</td>\n",
       "      <td>0</td>\n",
       "      <td>0.0000</td>\n",
       "    </tr>\n",
       "    <tr>\n",
       "      <th>5279</th>\n",
       "      <td>1064</td>\n",
       "      <td>cклоняться</td>\n",
       "      <td>0</td>\n",
       "      <td>0.0000</td>\n",
       "    </tr>\n",
       "    <tr>\n",
       "      <th>5280</th>\n",
       "      <td>2032</td>\n",
       "      <td>cиндзь</td>\n",
       "      <td>0</td>\n",
       "      <td>0.0000</td>\n",
       "    </tr>\n",
       "    <tr>\n",
       "      <th>5281</th>\n",
       "      <td>1712</td>\n",
       "      <td>cдеанонить</td>\n",
       "      <td>0</td>\n",
       "      <td>0.0000</td>\n",
       "    </tr>\n",
       "    <tr>\n",
       "      <th>5282</th>\n",
       "      <td>5185</td>\n",
       "      <td>corollaэтый</td>\n",
       "      <td>0</td>\n",
       "      <td>0.0000</td>\n",
       "    </tr>\n",
       "    <tr>\n",
       "      <th>5283</th>\n",
       "      <td>326</td>\n",
       "      <td>combatн</td>\n",
       "      <td>0</td>\n",
       "      <td>0.0000</td>\n",
       "    </tr>\n",
       "    <tr>\n",
       "      <th>5284</th>\n",
       "      <td>1746</td>\n",
       "      <td>cfqdohctxbrwdvfbhrть</td>\n",
       "      <td>0</td>\n",
       "      <td>0.0000</td>\n",
       "    </tr>\n",
       "    <tr>\n",
       "      <th>5285</th>\n",
       "      <td>399</td>\n",
       "      <td>cbwxztблагодарить</td>\n",
       "      <td>0</td>\n",
       "      <td>0.0000</td>\n",
       "    </tr>\n",
       "    <tr>\n",
       "      <th>5286</th>\n",
       "      <td>1393</td>\n",
       "      <td>cancerпопулизм</td>\n",
       "      <td>0</td>\n",
       "      <td>0.0000</td>\n",
       "    </tr>\n",
       "    <tr>\n",
       "      <th>5287</th>\n",
       "      <td>4981</td>\n",
       "      <td>bратие</td>\n",
       "      <td>0</td>\n",
       "      <td>0.0000</td>\n",
       "    </tr>\n",
       "    <tr>\n",
       "      <th>5288</th>\n",
       "      <td>3433</td>\n",
       "      <td>bрат</td>\n",
       "      <td>0</td>\n",
       "      <td>0.0000</td>\n",
       "    </tr>\n",
       "    <tr>\n",
       "      <th>5289</th>\n",
       "      <td>4266</td>\n",
       "      <td>_нецелован_листво</td>\n",
       "      <td>0</td>\n",
       "      <td>0.0000</td>\n",
       "    </tr>\n",
       "    <tr>\n",
       "      <th>5290</th>\n",
       "      <td>609</td>\n",
       "      <td>_лвть</td>\n",
       "      <td>0</td>\n",
       "      <td>0.0000</td>\n",
       "    </tr>\n",
       "    <tr>\n",
       "      <th>5291</th>\n",
       "      <td>1134</td>\n",
       "      <td>____оп</td>\n",
       "      <td>0</td>\n",
       "      <td>0.0000</td>\n",
       "    </tr>\n",
       "  </tbody>\n",
       "</table>\n",
       "<p>5292 rows × 4 columns</p>\n",
       "</div>"
      ],
      "text/plain": [
       "      index                  word  frequency  percentage\n",
       "0       323                 бампа        457      0.0249\n",
       "1      2903                  двач        177      0.0096\n",
       "2      3742                  ести         53      0.0029\n",
       "3      2194                 алсый         53      0.0029\n",
       "4       552               всратый         45      0.0024\n",
       "5       720                омёжка         36      0.0020\n",
       "6       253                няшный         36      0.0020\n",
       "7      4571                  типо         32      0.0017\n",
       "8      2200                скилла         28      0.0015\n",
       "9       160                 рашка         28      0.0015\n",
       "10     2295                   инф         27      0.0015\n",
       "11     4892               бабнуть         27      0.0015\n",
       "12     1367                  пруф         25      0.0014\n",
       "13      663           пикрелейтед         25      0.0014\n",
       "14     3577                  милф         25      0.0014\n",
       "15     3149                альфач         25      0.0014\n",
       "16     4046                ебучий         23      0.0013\n",
       "17     2760                 ващий         21      0.0011\n",
       "18     3950                куколд         20      0.0011\n",
       "19     3319                вангуй         20      0.0011\n",
       "20     3227                сраный         19      0.0010\n",
       "21     2718                 юзать         18      0.0010\n",
       "22      707                тащемт         18      0.0010\n",
       "23      688                  вебм         18      0.0010\n",
       "24     4124              биткоина         18      0.0010\n",
       "25      977                 баттл         18      0.0010\n",
       "26     3800                 батлы         18      0.0010\n",
       "27     3705                 сосач         17      0.0009\n",
       "28     4129                  пикч         17      0.0009\n",
       "29     2991          короткоствол         17      0.0009\n",
       "...     ...                   ...        ...         ...\n",
       "5262   5165        kaggleнебосить          0      0.0000\n",
       "5263   3195                jонить          0      0.0000\n",
       "5264   1666            jpgподкинт          0      0.0000\n",
       "5265    392                  jpeg          0      0.0000\n",
       "5266   3997                iphone          0      0.0000\n",
       "5267   4676                hsэтый          0      0.0000\n",
       "5268    364                  guyс          0      0.0000\n",
       "5269   3442                   gbт          0      0.0000\n",
       "5270   2562              fovhести          0      0.0000\n",
       "5271   3835            feelестись          0      0.0000\n",
       "5272   2531    fapafgфапафздрочий          0      0.0000\n",
       "5273   2103     ezqoмимонищийанон          0      0.0000\n",
       "5274   2309                  ever          0      0.0000\n",
       "5275    124         eemjxecпасибо          0      0.0000\n",
       "5276   2359                  dоно          0      0.0000\n",
       "5277   4106               cпиннер          0      0.0000\n",
       "5278   3575                cоусый          0      0.0000\n",
       "5279   1064            cклоняться          0      0.0000\n",
       "5280   2032                cиндзь          0      0.0000\n",
       "5281   1712            cдеанонить          0      0.0000\n",
       "5282   5185           corollaэтый          0      0.0000\n",
       "5283    326               combatн          0      0.0000\n",
       "5284   1746  cfqdohctxbrwdvfbhrть          0      0.0000\n",
       "5285    399     cbwxztблагодарить          0      0.0000\n",
       "5286   1393        cancerпопулизм          0      0.0000\n",
       "5287   4981                bратие          0      0.0000\n",
       "5288   3433                  bрат          0      0.0000\n",
       "5289   4266     _нецелован_листво          0      0.0000\n",
       "5290    609                 _лвть          0      0.0000\n",
       "5291   1134                ____оп          0      0.0000\n",
       "\n",
       "[5292 rows x 4 columns]"
      ]
     },
     "execution_count": 11,
     "metadata": {},
     "output_type": "execute_result"
    }
   ],
   "source": [
    "df"
   ]
  },
  {
   "cell_type": "markdown",
   "metadata": {
    "deletable": true,
    "editable": true
   },
   "source": [
    "Отрисовка диаграммы с наиболее частоупотребимыми словами в словаре"
   ]
  },
  {
   "cell_type": "code",
   "execution_count": 12,
   "metadata": {
    "collapsed": false,
    "deletable": true,
    "editable": true
   },
   "outputs": [
    {
     "data": {
      "text/plain": [
       "<matplotlib.axes._subplots.AxesSubplot at 0x7fd046921fd0>"
      ]
     },
     "execution_count": 12,
     "metadata": {},
     "output_type": "execute_result"
    },
    {
     "data": {
      "image/png": "[encoded data removed]",
      "text/plain": [
       "<matplotlib.figure.Figure at 0x7fd0468027b8>"
      ]
     },
     "metadata": {},
     "output_type": "display_data"
    }
   ],
   "source": [
    "AMOUNT_OF_SHOWN_WORDS = 10\n",
    "\n",
    "%matplotlib inline\n",
    "\n",
    "rcParams['figure.figsize'] = 10, 5\n",
    "params = {'xtick.labelsize': 20, 'ytick.labelsize': 20}\n",
    "plt.rcParams.update(params)\n",
    "seaborn.set_style('whitegrid')\n",
    "df[:AMOUNT_OF_SHOWN_WORDS].plot.barh(x='word', y='percentage', color=cm.rainbow(np.linspace(0, 1, AMOUNT_OF_SHOWN_WORDS)))"
   ]
  },
  {
   "cell_type": "markdown",
   "metadata": {},
   "source": [
    "Обучение Word2Vec-модели на наборе постов"
   ]
  },
  {
   "cell_type": "code",
   "execution_count": 13,
   "metadata": {
    "collapsed": false,
    "deletable": true,
    "editable": true
   },
   "outputs": [],
   "source": [
    "word2vec_model = Word2Vec([word_tokenize(post.lower()) for post in posts], min_count=3, size=100, window=5,  workers=4) "
   ]
  },
  {
   "cell_type": "markdown",
   "metadata": {},
   "source": [
    "Визуализация части пространства Word2Vec-модели на примере семантически близких к заданному слову слов "
   ]
  },
  {
   "cell_type": "code",
   "execution_count": 15,
   "metadata": {
    "collapsed": false
   },
   "outputs": [
    {
     "data": {
      "image/png": "[encoded data removed]",
      "text/plain": [
       "<matplotlib.figure.Figure at 0x7fd042e32d30>"
      ]
     },
     "metadata": {},
     "output_type": "display_data"
    }
   ],
   "source": [
    "WORD = 'корзина'\n",
    "TOPN=50\n",
    "\n",
    "labels = []\n",
    "tokens = []\n",
    "\n",
    "for word in word2vec_model.most_similar(WORD, topn=TOPN):\n",
    "    tokens.append(word2vec_model[word[0]])\n",
    "    labels.append(word[0])\n",
    "    \n",
    "tsne_model = TSNE(perplexity=40, n_components=2, init='pca', n_iter=2500, random_state=23)\n",
    "new_values = tsne_model.fit_transform(tokens)\n",
    "\n",
    "x = []\n",
    "y = []\n",
    "for value in new_values:\n",
    "    x.append(value[0])\n",
    "    y.append(value[1])\n",
    "\n",
    "plt.figure(figsize=(20, 20))\n",
    "seaborn.set_style('whitegrid')\n",
    "plt.grid(False)\n",
    "for i in range(len(x)):\n",
    "    plt.scatter(x[i],y[i])\n",
    "    plt.annotate(labels[i],\n",
    "                fontsize=10,\n",
    "                color='black',\n",
    "                xy=(x[i], y[i]),\n",
    "                xytext=(2, 2),\n",
    "                textcoords='offset points',\n",
    "                ha='right',\n",
    "                va='bottom')"
   ]
  },
  {
   "cell_type": "markdown",
   "metadata": {},
   "source": [
    "Обучение TF-IDF-векторизатора на наборе постов"
   ]
  },
  {
   "cell_type": "code",
   "execution_count": 16,
   "metadata": {
    "collapsed": false,
    "deletable": true,
    "editable": true
   },
   "outputs": [],
   "source": [
    "vectorizer = TfidfVectorizer()\n",
    "X = vectorizer.fit_transform(posts)\n",
    "terms = vectorizer.get_feature_names()"
   ]
  },
  {
   "cell_type": "markdown",
   "metadata": {},
   "source": [
    "Кластеризация TF-IDF-пространства с помощью K-Means"
   ]
  },
  {
   "cell_type": "code",
   "execution_count": 17,
   "metadata": {
    "collapsed": false,
    "deletable": true,
    "editable": true
   },
   "outputs": [
    {
     "data": {
      "text/plain": [
       "KMeans(algorithm='auto', copy_x=True, init='k-means++', max_iter=100,\n",
       "    n_clusters=13, n_init=1, n_jobs=1, precompute_distances='auto',\n",
       "    random_state=None, tol=0.0001, verbose=0)"
      ]
     },
     "execution_count": 17,
     "metadata": {},
     "output_type": "execute_result"
    }
   ],
   "source": [
    "NUM_CLUSTERS = 13\n",
    "\n",
    "kmeans_model = KMeans(n_clusters=NUM_CLUSTERS , init='k-means++', max_iter=100, n_init=1)\n",
    "kmeans_model.fit(X)"
   ]
  },
  {
   "cell_type": "markdown",
   "metadata": {},
   "source": [
    "Отображение заданного набора наиболее близких к центроиду слов для каждого кластера"
   ]
  },
  {
   "cell_type": "code",
   "execution_count": 18,
   "metadata": {
    "collapsed": false,
    "deletable": true,
    "editable": true
   },
   "outputs": [
    {
     "name": "stdout",
     "output_type": "stream",
     "text": [
      "Кластер 0:\n",
      "ес\n",
      "тишина\n",
      "чо\n",
      "хули\n",
      "нравится\n",
      "\n",
      "Кластер 1:\n",
      "прямо\n",
      "великую\n",
      "стенки\n",
      "навязывать\n",
      "баха\n",
      "\n",
      "Кластер 2:\n",
      "удовольствие\n",
      "нерекомендую\n",
      "физическое\n",
      "фапапсихологическое\n",
      "очкуешь\n",
      "\n",
      "Кластер 3:\n",
      "манятред\n",
      "азимова\n",
      "рассказ\n",
      "прочитал\n",
      "создать\n",
      "\n",
      "Кластер 4:\n",
      "бамп\n",
      "бампать\n",
      "лютый\n",
      "последний\n",
      "сука\n",
      "\n",
      "Кластер 5:\n",
      "дать\n",
      "одноклассницу\n",
      "власть\n",
      "отсосать\n",
      "предложил\n",
      "\n",
      "Кластер 6:\n",
      "унижает\n",
      "музыкальный\n",
      "вкус\n",
      "её\n",
      "калтактике\n",
      "\n",
      "Кластер 7:\n",
      "то\n",
      "лол\n",
      "лет\n",
      "тян\n",
      "что\n",
      "\n",
      "Кластер 8:\n",
      "факт\n",
      "реальной\n",
      "возраст\n",
      "какого\n",
      "опыта\n",
      "\n",
      "Кластер 9:\n",
      "голова\n",
      "дай\n",
      "денег\n",
      "пожалуйста\n",
      "великая\n",
      "\n",
      "Кластер 10:\n",
      "тоскливо\n",
      "вечерам\n",
      "писать\n",
      "молодость\n",
      "звать\n",
      "\n",
      "Кластер 11:\n",
      "опоздал\n",
      "漢字\n",
      "калреквеститруют\n",
      "камвхора\n",
      "камаза\n",
      "\n",
      "Кластер 12:\n",
      "аптечном\n",
      "сортировщик\n",
      "складе\n",
      "漢字\n",
      "камвхорами\n",
      "\n"
     ]
    }
   ],
   "source": [
    "NUM_WORDS = 5\n",
    "\n",
    "centroid_terms = [[]]*NUM_CLUSTERS\n",
    "\n",
    "order_centroids = kmeans_model.cluster_centers_.argsort()[:, ::-1]\n",
    "\n",
    "for i in range(NUM_CLUSTERS):\n",
    "    centroid_terms[i] = set()\n",
    "    print('Кластер {}:'.format(i))\n",
    "    for j in order_centroids[i, :NUM_WORDS]:\n",
    "        print(terms[j])\n",
    "        centroid_terms[i].add(terms[j])\n",
    "    print()"
   ]
  },
  {
   "cell_type": "markdown",
   "metadata": {},
   "source": [
    "Визуализация центроидов кластеров"
   ]
  },
  {
   "cell_type": "code",
   "execution_count": null,
   "metadata": {
    "collapsed": false,
    "deletable": true,
    "editable": true
   },
   "outputs": [],
   "source": [
    "def search_for_centroid_terms(term):\n",
    "    for i, k in enumerate(centroid_terms):\n",
    "        if term in k:\n",
    "            return i,term\n",
    "        \n",
    "#RANGE = 1\n",
    "\n",
    "colors = cm.rainbow(np.linspace(0, 1, NUM_CLUSTERS))\n",
    "\n",
    "reduced_X = PCA(n_components=2).fit_transform(X.todense())\n",
    "#tsne_model = TSNE(perplexity=40, n_components=2, init='pca', n_iter=2500, random_state=42)\n",
    "#reduced_X = tsne_model.fit_transform(X.todense())\n",
    "\n",
    "for i, _ in enumerate(reduced_X):\n",
    "    if search_for_centroid_terms(terms[i]):\n",
    "        cluster, term = search_for_centroid_terms(terms[i])\n",
    "        plt.scatter(*reduced_X[i], color=colors[cluster])\n",
    "        plt.annotate('{}: {}'.format(cluster, term), (reduced_X[i]))\n",
    "\n",
    "plt.legend([mpatches.Rectangle((0,0),1,1,fc=colors[i]) for i in range(len(colors))],\n",
    "           ['Кластер {}'.format(i) for i in range(NUM_CLUSTERS)],\n",
    "           loc=4,\n",
    "           fontsize=12)   \n",
    "plt.plot()\n",
    "#plt.xlim(-RANGE, RANGE)\n",
    "#plt.ylim(-RANGE, RANGE)\n",
    "plt.show()"
   ]
  },
  {
   "cell_type": "code",
   "execution_count": null,
   "metadata": {
    "collapsed": true,
    "deletable": true,
    "editable": true
   },
   "outputs": [],
   "source": []
  }
 ],
 "metadata": {
  "kernelspec": {
   "display_name": "Python 3",
   "language": "python",
   "name": "python3"
  },
  "language_info": {
   "codemirror_mode": {
    "name": "ipython",
    "version": 3
   },
   "file_extension": ".py",
   "mimetype": "text/x-python",
   "name": "python",
   "nbconvert_exporter": "python",
   "pygments_lexer": "ipython3",
   "version": "3.5.3"
  }
 },
 "nbformat": 4,
 "nbformat_minor": 2
}
