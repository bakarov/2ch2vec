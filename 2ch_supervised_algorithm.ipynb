{
 "cells": [
  {
   "cell_type": "code",
   "execution_count": 1,
   "metadata": {
    "collapsed": false,
    "deletable": true,
    "editable": true
   },
   "outputs": [],
   "source": [
    "from pandas import read_csv, Series\n",
    "from gensim.models import Word2Vec, KeyedVectors\n",
    "import numpy as np\n",
    "from pickle import load\n",
    "from glove import Glove\n",
    "import adagram\n",
    "from gensim.models.wrappers import FastText, Wordrank\n",
    "from embed_utils import Word2VecF, Swivel, cosine_sim, get_adagram_sense_prob, wv\n",
    "from utils.string_utils import morph_parse, make_tokens"
   ]
  },
  {
   "cell_type": "code",
   "execution_count": 2,
   "metadata": {
    "collapsed": true,
    "deletable": true,
    "editable": true
   },
   "outputs": [],
   "source": [
    "from sklearn.ensemble import RandomForestClassifier, GradientBoostingClassifier, AdaBoostClassifier\n",
    "from sklearn.neural_network import MLPClassifier\n",
    "from sklearn.discriminant_analysis import QuadraticDiscriminantAnalysis\n",
    "from sklearn.linear_model import LogisticRegression\n",
    "from sklearn.svm import SVC\n",
    "from sklearn.naive_bayes import BernoulliNB\n",
    "from sklearn.neighbors import KNeighborsClassifier\n",
    "from sklearn.linear_model import LogisticRegression\n",
    "from sklearn.tree import DecisionTreeClassifier\n",
    "from sklearn.gaussian_process import GaussianProcessClassifier\n",
    "from sklearn.dummy import DummyClassifier\n",
    "from sklearn.gaussian_process.kernels import RBF\n",
    "from sklearn.metrics import (accuracy_score, brier_score_loss, precision_score, recall_score, f1_score)\n",
    "from sklearn.calibration import CalibratedClassifierCV, calibration_curve\n",
    "from sklearn.model_selection import learning_curve\n",
    "from sklearn.model_selection import ShuffleSplit"
   ]
  },
  {
   "cell_type": "code",
   "execution_count": 88,
   "metadata": {
    "collapsed": true,
    "deletable": true,
    "editable": true
   },
   "outputs": [],
   "source": [
    "import matplotlib.pyplot as plt\n",
    "import seaborn"
   ]
  },
  {
   "cell_type": "code",
   "execution_count": 4,
   "metadata": {
    "collapsed": false,
    "deletable": true,
    "editable": true
   },
   "outputs": [],
   "source": [
    "old_err_state = np.seterr(all='raise')\n",
    "\n",
    "def vectorize_message(sentence, model, num_features, vocab):\n",
    "    featureVec = np.zeros((num_features), dtype='float32')\n",
    "    nwords = 0\n",
    "    \n",
    "    tokens = make_tokens(sentence.lower(), vocab)\n",
    "\n",
    "    for word in tokens:\n",
    "        if word in vocab: \n",
    "            if model == 'word2vec':\n",
    "                featureVec = np.add(featureVec, word2vec[word])\n",
    "            elif model == 'wang2vec':\n",
    "                featureVec = np.add(featureVec, wang2vec[word])\n",
    "            elif model == 'glove':\n",
    "                featureVec = np.add(featureVec, wv(glove, word))\n",
    "            elif model == 'word2vecf':\n",
    "                featureVec = np.add(featureVec, w2vf.word2vec(word))\n",
    "            elif model == 'adagram':\n",
    "                featureVec = np.add(featureVec, ada_model.sense_vector(word, get_adagram_sense_prob(ada_model, word)))\n",
    "            elif model == 'fasttext':\n",
    "                featureVec = np.add(featureVec, ft[word])\n",
    "            elif model == 'bow':\n",
    "                featureVec = np.add(featureVec, bow[word])\n",
    "            elif model == 'swivel':\n",
    "                featureVec = np.add(featureVec, swivel.lookup(word))\n",
    "            nwords = nwords + 1\n",
    "    try:\n",
    "        featureVec = np.divide(featureVec, nwords)\n",
    "    except FloatingPointError:\n",
    "         featureVec = np.zeros((num_features), dtype='float32')\n",
    "    return featureVec"
   ]
  },
  {
   "cell_type": "code",
   "execution_count": 5,
   "metadata": {
    "collapsed": false,
    "deletable": true,
    "editable": true
   },
   "outputs": [],
   "source": [
    "df = read_csv('anno2ch/annotated.csv', encoding='cp1251')\n",
    "df.comment = df.comment.apply(morph_parse)\n",
    "df.reference = df.reference.apply(morph_parse)"
   ]
  },
  {
   "cell_type": "code",
   "execution_count": 6,
   "metadata": {
    "collapsed": false,
    "deletable": true,
    "editable": true
   },
   "outputs": [],
   "source": [
    "df_unl = read_csv('anno2ch/annotated.csv', encoding='cp1251')"
   ]
  },
  {
   "cell_type": "code",
   "execution_count": 7,
   "metadata": {
    "collapsed": false,
    "deletable": true,
    "editable": true
   },
   "outputs": [],
   "source": [
    "Y = df['labels'].values"
   ]
  },
  {
   "cell_type": "markdown",
   "metadata": {
    "deletable": true,
    "editable": true
   },
   "source": [
    "Загрузка Word2Vec-модели"
   ]
  },
  {
   "cell_type": "code",
   "execution_count": 8,
   "metadata": {
    "collapsed": false,
    "deletable": true,
    "editable": true
   },
   "outputs": [],
   "source": [
    "word2vec = Word2Vec.load('models/word2vec/all_lem_100')\n",
    "word2vec_vocab = word2vec.wv.vocab"
   ]
  },
  {
   "cell_type": "markdown",
   "metadata": {
    "deletable": true,
    "editable": true
   },
   "source": [
    "Загрузка Glove-модели"
   ]
  },
  {
   "cell_type": "code",
   "execution_count": 9,
   "metadata": {
    "collapsed": false,
    "deletable": true,
    "editable": true
   },
   "outputs": [],
   "source": [
    "with open('models/glove/all_lem_100', 'rb') as fp:\n",
    "    glove = load(fp)\n",
    "glove_vocab = glove.dictionary"
   ]
  },
  {
   "cell_type": "markdown",
   "metadata": {
    "deletable": true,
    "editable": true
   },
   "source": [
    "Загрузка Wang2Vec-модели"
   ]
  },
  {
   "cell_type": "code",
   "execution_count": 10,
   "metadata": {
    "collapsed": false,
    "deletable": true,
    "editable": true
   },
   "outputs": [],
   "source": [
    "wang2vec = KeyedVectors.load_word2vec_format('models/wang2vec/all_lem_100_cwindow', binary=True)\n",
    "wang2vec_vocab = wang2vec.vocab"
   ]
  },
  {
   "cell_type": "markdown",
   "metadata": {
    "deletable": true,
    "editable": true
   },
   "source": [
    "Загрузка Word2Vec-f-модели"
   ]
  },
  {
   "cell_type": "code",
   "execution_count": 11,
   "metadata": {
    "collapsed": false,
    "deletable": true,
    "editable": true
   },
   "outputs": [],
   "source": [
    "from os import path\n",
    "\n",
    "w2vf = Word2VecF.load(path.join('models/word2vecf', 'vecs.npy'), path.join('models/word2vecf', 'vecs.vocab'))\n",
    "w2vf_vocab = w2vf._vocab"
   ]
  },
  {
   "cell_type": "markdown",
   "metadata": {
    "deletable": true,
    "editable": true
   },
   "source": [
    "Загрузка Adagram-модели"
   ]
  },
  {
   "cell_type": "code",
   "execution_count": 12,
   "metadata": {
    "collapsed": false,
    "deletable": true,
    "editable": true
   },
   "outputs": [],
   "source": [
    "ada_model = adagram.VectorModel.load('models/adagram/all_lem_100.pkl')\n",
    "adagram_vocab = ada_model.dictionary.word2id.keys()"
   ]
  },
  {
   "cell_type": "markdown",
   "metadata": {
    "deletable": true,
    "editable": true
   },
   "source": [
    "Загрузка BOW-модели"
   ]
  },
  {
   "cell_type": "code",
   "execution_count": 13,
   "metadata": {
    "collapsed": false,
    "deletable": true,
    "editable": true
   },
   "outputs": [],
   "source": [
    "from pickle import load\n",
    "\n",
    "with open('models/tf_idf/all_lem', 'rb') as fp:\n",
    "    bow = load(fp)"
   ]
  },
  {
   "cell_type": "markdown",
   "metadata": {
    "deletable": true,
    "editable": true
   },
   "source": [
    "Загрузка Swivel-модели"
   ]
  },
  {
   "cell_type": "code",
   "execution_count": 14,
   "metadata": {
    "collapsed": false,
    "deletable": true,
    "editable": true
   },
   "outputs": [],
   "source": [
    "swivel = Swivel('models/swivel/vocab_100.txt', 'models/swivel/vecs_100.bin')\n",
    "swivel_vocab = swivel.vocab"
   ]
  },
  {
   "cell_type": "markdown",
   "metadata": {
    "deletable": true,
    "editable": true
   },
   "source": [
    "Загрузка Fasttext-модели"
   ]
  },
  {
   "cell_type": "code",
   "execution_count": 15,
   "metadata": {
    "collapsed": false,
    "deletable": true,
    "editable": true
   },
   "outputs": [],
   "source": [
    "ft = FastText.load_word2vec_format('models/fasttext/all_100_skipgram.vec')\n",
    "ft_vocab = ft.vocab"
   ]
  },
  {
   "cell_type": "markdown",
   "metadata": {
    "deletable": true,
    "editable": true
   },
   "source": [
    "Загрузка Wordrank-модели"
   ]
  },
  {
   "cell_type": "code",
   "execution_count": 16,
   "metadata": {
    "collapsed": false,
    "deletable": true,
    "editable": true
   },
   "outputs": [],
   "source": [
    "#wr = Wordrank()\n",
    "#mod = Wordrank.load_wordrank_model('/media/defeater/d5233b78-d9c7-40e7-a454-8b108bcc4b8a/defeater/NLP/wordrank/meta/cooccurrence')\n",
    "#wr = wr.train('/media/defeater/d5233b78-d9c7-40e7-a454-8b108bcc4b8a/defeater/NLP/wordrank', corpus_file='corpus.txt', out_path='/media/defeater/d5233b78-d9c7-40e7-a454-8b108bcc4b8a/defeater/NLP/wordrank')"
   ]
  },
  {
   "cell_type": "markdown",
   "metadata": {
    "deletable": true,
    "editable": true
   },
   "source": [
    "Получение датасетов"
   ]
  },
  {
   "cell_type": "code",
   "execution_count": 17,
   "metadata": {
    "collapsed": false,
    "deletable": true,
    "editable": true
   },
   "outputs": [],
   "source": [
    "word2vec_vectors = np.zeros(shape=(len(df),100), dtype='float32')\n",
    "\n",
    "for i, m in df.iterrows():\n",
    "    word2vec_vectors[i] = vectorize_message(m['comment'] + m['reference'], 'word2vec', 100, word2vec_vocab)"
   ]
  },
  {
   "cell_type": "code",
   "execution_count": 18,
   "metadata": {
    "collapsed": false,
    "deletable": true,
    "editable": true
   },
   "outputs": [],
   "source": [
    "glove_vectors = np.zeros(shape=(len(df),100), dtype='float32')\n",
    "\n",
    "for i, m in df.iterrows():\n",
    "    glove_vectors[i] = vectorize_message(m['comment'] + m['reference'], 'glove', 100, glove_vocab)"
   ]
  },
  {
   "cell_type": "code",
   "execution_count": 19,
   "metadata": {
    "collapsed": false,
    "deletable": true,
    "editable": true
   },
   "outputs": [],
   "source": [
    "wang2vec_vectors = np.zeros(shape=(len(df),100), dtype='float32')\n",
    "\n",
    "for i, m in df.iterrows():\n",
    "    wang2vec_vectors[i] = vectorize_message(m['comment'] + m['reference'], 'wang2vec', 100, wang2vec_vocab)"
   ]
  },
  {
   "cell_type": "code",
   "execution_count": 20,
   "metadata": {
    "collapsed": false,
    "deletable": true,
    "editable": true
   },
   "outputs": [],
   "source": [
    "adagram_vectors = np.zeros(shape=(len(df),100), dtype='float32')\n",
    "\n",
    "for i, m in df.iterrows():\n",
    "    adagram_vectors[i] = vectorize_message(m['comment'] + m['reference'], 'adagram', 100, adagram_vocab)"
   ]
  },
  {
   "cell_type": "code",
   "execution_count": 21,
   "metadata": {
    "collapsed": false,
    "deletable": true,
    "editable": true
   },
   "outputs": [],
   "source": [
    "w2vf_vectors = np.zeros(shape=(len(df),100), dtype='float32')\n",
    "\n",
    "for i, m in df_unl.iterrows():\n",
    "    w2vf_vectors[i] = vectorize_message(m['comment'] + m['reference'], 'word2vecf', 100, w2vf_vocab)"
   ]
  },
  {
   "cell_type": "code",
   "execution_count": 22,
   "metadata": {
    "collapsed": false,
    "deletable": true,
    "editable": true
   },
   "outputs": [],
   "source": [
    "ft_vectors = np.zeros(shape=(len(df),100), dtype='float32')\n",
    "\n",
    "for i, m in df.iterrows():\n",
    "    ft_vectors[i] = vectorize_message(m['comment'] + m['reference'], 'fasttext', 100, ft_vocab)"
   ]
  },
  {
   "cell_type": "code",
   "execution_count": 23,
   "metadata": {
    "collapsed": true,
    "deletable": true,
    "editable": true
   },
   "outputs": [],
   "source": [
    "bow_vectors = np.zeros(shape=(len(df),1), dtype='float32')\n",
    "\n",
    "for i, m in df.iterrows():\n",
    "    bow_vectors[i] = vectorize_message(m['comment'] + m['reference'], 'bow', 1, bow)"
   ]
  },
  {
   "cell_type": "code",
   "execution_count": 24,
   "metadata": {
    "collapsed": false,
    "deletable": true,
    "editable": true
   },
   "outputs": [],
   "source": [
    "swivel_vectors = np.zeros(shape=(len(df), 100), dtype='float32')\n",
    "\n",
    "for i, m in df.iterrows():\n",
    "    swivel_vectors[i] = vectorize_message(m['comment'] + m['reference'], 'swivel', 100, swivel_vocab)"
   ]
  },
  {
   "cell_type": "markdown",
   "metadata": {
    "collapsed": true,
    "deletable": true,
    "editable": true
   },
   "source": [
    "Сравнение"
   ]
  },
  {
   "cell_type": "code",
   "execution_count": 90,
   "metadata": {
    "collapsed": false,
    "deletable": true,
    "editable": true
   },
   "outputs": [],
   "source": [
    "def set_plt_params():\n",
    "    title_font = {'size':'80', 'color':'black', 'weight':'bold',\n",
    "                  'verticalalignment':'bottom'} \n",
    "    axis_font = {'size':'80'}\n",
    "    plt.figure(figsize=(10, 10))\n",
    "    #plt.xlabel('Training examples in cross-validation', **axis_font)\n",
    "    #plt.ylabel('F1-Score',  **axis_font)\n",
    "    plt.suptitle('(a) Summation', fontsize=90)\n",
    "    plt.grid(False)\n",
    "    plt.axes(frameon = 0)\n",
    "    plt.tick_params(labelsize=60)\n",
    "    plt.ylim([0.76, 0.86])\n",
    "    #plt.setp(fontsize='large')\n",
    "    #seaborn.despine()"
   ]
  },
  {
   "cell_type": "code",
   "execution_count": 91,
   "metadata": {
    "collapsed": false,
    "deletable": true,
    "editable": true,
    "scrolled": true
   },
   "outputs": [],
   "source": [
    "set_plt_params()\n",
    "results = []\n",
    "\n",
    "import pylab\n",
    "\n",
    "figlegend = pylab.figure(figsize=(3,2))\n",
    "\n",
    "seaborn.set_style('white', {'grid' : False})\n",
    "\n",
    "lss = [\n",
    "]\n",
    "names = []\n",
    "for X, name, lstyle in [(glove_vectors, 'Glove', 'dotted'),\n",
    "                (word2vec_vectors, 'Word2Vec', 'dashed'),\n",
    "                (wang2vec_vectors, 'Wang2Vec', 'dashdot'),\n",
    "                (w2vf_vectors, 'Word2Vec-f',  (0, (20,20))),\n",
    "                (adagram_vectors, 'Adagram', (0,(10,10))),\n",
    "                (ft_vectors, 'FastText','solid'),\n",
    "                (bow_vectors, 'TF-IDF',(0,(30,30))),\n",
    "                (swivel_vectors, 'Swivel',(0,(40,40))),\n",
    "                ]:\n",
    "    estimator = KNeighborsClassifier(n_neighbors = 3)\n",
    "    cv = ShuffleSplit(n_splits=10, test_size=0.1, random_state=0)\n",
    "    train_sizes=np.linspace(0.1, 0.9, 5)\n",
    "    train_sizes, train_scores, test_scores = learning_curve(estimator, X, Y, cv=cv, train_sizes=train_sizes)\n",
    "    train_scores_mean = np.mean(train_scores, axis=1)\n",
    "    train_scores_std = np.std(train_scores, axis=1)\n",
    "    test_scores_mean = np.mean(test_scores, axis=1)\n",
    "    test_scores_std = np.std(test_scores, axis=1)\n",
    "    results.append({'model' : name, 'score' : train_scores_mean})\n",
    "    plt.plot(train_sizes, train_scores_mean, label=name, linewidth=10, linestyle=lstyle)\n",
    "\n",
    "    \n",
    "plt.legend(prop={'size':60}, ncol=8)\n",
    "plt.savefig('classifiers_legend.png', bbox_inches='tight')\n",
    "#plt.show()"
   ]
  },
  {
   "cell_type": "code",
   "execution_count": 37,
   "metadata": {
    "collapsed": false,
    "deletable": true,
    "editable": true
   },
   "outputs": [
    {
     "data": {
      "text/plain": [
       "[{'model': 'Glove',\n",
       "  'score': array([ 0.80294118,  0.82658537,  0.82865497,  0.83458725,  0.84443542])},\n",
       " {'model': 'Word2Vec',\n",
       "  'score': array([ 0.79117647,  0.82292683,  0.83055556,  0.83563218,  0.83744923])},\n",
       " {'model': 'Wang2Vec',\n",
       "  'score': array([ 0.80808824,  0.81878049,  0.8371345 ,  0.84242424,  0.84630382])},\n",
       " {'model': 'Word2Vec-f',\n",
       "  'score': array([ 0.75588235,  0.77926829,  0.77646199,  0.77826541,  0.77912266])},\n",
       " {'model': 'Adagram',\n",
       "  'score': array([ 0.78014706,  0.81      ,  0.82017544,  0.82361546,  0.82493907])},\n",
       " {'model': 'FastText',\n",
       "  'score': array([ 0.8125    ,  0.83780488,  0.84415205,  0.84963427,  0.85442729])},\n",
       " {'model': 'TF-IDF',\n",
       "  'score': array([ 0.76470588,  0.77536585,  0.77017544,  0.76781609,  0.76856214])},\n",
       " {'model': 'Swivel',\n",
       "  'score': array([ 0.80735294,  0.83487805,  0.84517544,  0.8539185 ,  0.85686434])}]"
      ]
     },
     "execution_count": 37,
     "metadata": {},
     "output_type": "execute_result"
    }
   ],
   "source": [
    "results"
   ]
  },
  {
   "cell_type": "code",
   "execution_count": null,
   "metadata": {
    "collapsed": true,
    "deletable": true,
    "editable": true
   },
   "outputs": [],
   "source": []
  }
 ],
 "metadata": {
  "kernelspec": {
   "display_name": "Python 3",
   "language": "python",
   "name": "python3"
  },
  "language_info": {
   "codemirror_mode": {
    "name": "ipython",
    "version": 3
   },
   "file_extension": ".py",
   "mimetype": "text/x-python",
   "name": "python",
   "nbconvert_exporter": "python",
   "pygments_lexer": "ipython3",
   "version": "3.5.3"
  }
 },
 "nbformat": 4,
 "nbformat_minor": 2
}
