{
 "cells": [
  {
   "cell_type": "code",
   "execution_count": 16,
   "metadata": {
    "collapsed": false,
    "deletable": true,
    "editable": true
   },
   "outputs": [],
   "source": [
    "from pandas import read_csv, Series\n",
    "from gensim.models import Word2Vec, KeyedVectors\n",
    "import numpy as np\n",
    "from pickle import load\n",
    "from glove import Glove\n",
    "import adagram\n",
    "from gensim.models.wrappers import FastText, Wordrank\n",
    "from embed_utils import Word2VecF, Swivel, cosine_sim, get_adagram_sense_prob, wv\n",
    "from utils.string_utils import morph_parse, make_tokens\n",
    "from scipy.spatial.distance import cosine\n",
    "from os import path\n",
    "from scipy.stats import spearmanr"
   ]
  },
  {
   "cell_type": "code",
   "execution_count": 45,
   "metadata": {
    "collapsed": false,
    "deletable": true,
    "editable": true
   },
   "outputs": [],
   "source": [
    "def get_vector_distance(word1, word2, model, num_features):\n",
    "    try:\n",
    "        if model == 'word2vec':\n",
    "            return cosine(word2vec[word1], word2vec[word2])\n",
    "        elif model == 'wang2vec':\n",
    "            return cosine(wang2vec[word1], wang2vec[word2])\n",
    "        elif model == 'glove':\n",
    "            return cosine(wv(glove, word1), wv(glove, word2))\n",
    "        elif model == 'word2vecf':\n",
    "            return cosine(w2vf.word2vec(word1), w2vf.word2vec(word2))\n",
    "        elif model == 'adagram':\n",
    "            return cosine(ada_model.sense_vector(word1, get_adagram_sense_prob(ada_model, word1)),\n",
    "                          ada_model.sense_vector(word2, get_adagram_sense_prob(ada_model, word2)))\n",
    "        elif model == 'fasttext':\n",
    "            return cosine(ft[word1], ft[word2])\n",
    "        elif model == 'bow':\n",
    "            return cosine(bow[word1], bow[word2])\n",
    "        elif model == 'swivel':\n",
    "            return cosine(swivel.lookup(word1), swivel.lookup(word2))\n",
    "    except (KeyError, TypeError, ValueError, AttributeError):\n",
    "        #print(word1, word2)\n",
    "        return 0"
   ]
  },
  {
   "cell_type": "code",
   "execution_count": 43,
   "metadata": {
    "collapsed": false,
    "deletable": true,
    "editable": true
   },
   "outputs": [],
   "source": [
    "def load_sim_dataset(name):\n",
    "    df = read_csv(path.join('sim_datasets', '{}.csv'.format(name))).dropna()\n",
    "    df.word1 = df.word1.apply(morph_parse)\n",
    "    df.word2 = df.word2.apply(morph_parse)\n",
    "    return df"
   ]
  },
  {
   "cell_type": "markdown",
   "metadata": {
    "deletable": true,
    "editable": true
   },
   "source": [
    "Загрузка Word2Vec-модели"
   ]
  },
  {
   "cell_type": "code",
   "execution_count": 8,
   "metadata": {
    "collapsed": false,
    "deletable": true,
    "editable": true
   },
   "outputs": [],
   "source": [
    "word2vec = Word2Vec.load('models/word2vec/all_lem_100')\n",
    "word2vec_vocab = word2vec.wv.vocab"
   ]
  },
  {
   "cell_type": "markdown",
   "metadata": {
    "deletable": true,
    "editable": true
   },
   "source": [
    "Загрузка Glove-модели"
   ]
  },
  {
   "cell_type": "code",
   "execution_count": 9,
   "metadata": {
    "collapsed": false,
    "deletable": true,
    "editable": true
   },
   "outputs": [],
   "source": [
    "with open('models/glove/all_lem_100', 'rb') as fp:\n",
    "    glove = load(fp)\n",
    "glove_vocab = glove.dictionary"
   ]
  },
  {
   "cell_type": "markdown",
   "metadata": {
    "deletable": true,
    "editable": true
   },
   "source": [
    "Загрузка Wang2Vec-модели"
   ]
  },
  {
   "cell_type": "code",
   "execution_count": 10,
   "metadata": {
    "collapsed": false,
    "deletable": true,
    "editable": true
   },
   "outputs": [],
   "source": [
    "wang2vec = KeyedVectors.load_word2vec_format('models/wang2vec/all_lem_100_cwindow', binary=True)\n",
    "wang2vec_vocab = wang2vec.vocab"
   ]
  },
  {
   "cell_type": "markdown",
   "metadata": {
    "deletable": true,
    "editable": true
   },
   "source": [
    "Загрузка Word2Vec-f-модели"
   ]
  },
  {
   "cell_type": "code",
   "execution_count": 11,
   "metadata": {
    "collapsed": false,
    "deletable": true,
    "editable": true
   },
   "outputs": [],
   "source": [
    "from os import path\n",
    "\n",
    "w2vf = Word2VecF.load(path.join('models/word2vecf', 'vecs.npy'), path.join('models/word2vecf', 'vecs.vocab'))\n",
    "w2vf_vocab = w2vf._vocab"
   ]
  },
  {
   "cell_type": "markdown",
   "metadata": {
    "deletable": true,
    "editable": true
   },
   "source": [
    "Загрузка Adagram-модели"
   ]
  },
  {
   "cell_type": "code",
   "execution_count": 12,
   "metadata": {
    "collapsed": false,
    "deletable": true,
    "editable": true
   },
   "outputs": [],
   "source": [
    "ada_model = adagram.VectorModel.load('models/adagram/all_lem_100.pkl')\n",
    "adagram_vocab = ada_model.dictionary.word2id.keys()"
   ]
  },
  {
   "cell_type": "markdown",
   "metadata": {
    "deletable": true,
    "editable": true
   },
   "source": [
    "Загрузка BOW-модели"
   ]
  },
  {
   "cell_type": "code",
   "execution_count": 13,
   "metadata": {
    "collapsed": false,
    "deletable": true,
    "editable": true
   },
   "outputs": [],
   "source": [
    "from pickle import load\n",
    "\n",
    "with open('models/tfidf/all_lem', 'rb') as fp:\n",
    "    bow = load(fp)"
   ]
  },
  {
   "cell_type": "markdown",
   "metadata": {
    "deletable": true,
    "editable": true
   },
   "source": [
    "Загрузка Swivel-модели"
   ]
  },
  {
   "cell_type": "code",
   "execution_count": 14,
   "metadata": {
    "collapsed": false,
    "deletable": true,
    "editable": true
   },
   "outputs": [],
   "source": [
    "swivel = Swivel('models/swivel/vocab_100.txt', 'models/swivel/vecs_100.bin')\n",
    "swivel_vocab = swivel.vocab"
   ]
  },
  {
   "cell_type": "markdown",
   "metadata": {
    "deletable": true,
    "editable": true
   },
   "source": [
    "Загрузка Fasttext-модели"
   ]
  },
  {
   "cell_type": "code",
   "execution_count": 15,
   "metadata": {
    "collapsed": false,
    "deletable": true,
    "editable": true
   },
   "outputs": [],
   "source": [
    "ft = FastText.load_word2vec_format('models/fasttext/all_100_skipgram.vec')\n",
    "ft_vocab = ft.vocab"
   ]
  },
  {
   "cell_type": "markdown",
   "metadata": {
    "deletable": true,
    "editable": true
   },
   "source": [
    "Получение датасетов"
   ]
  },
  {
   "cell_type": "code",
   "execution_count": 35,
   "metadata": {
    "collapsed": true,
    "deletable": true,
    "editable": true
   },
   "outputs": [],
   "source": [
    "def make_sims_dataset(model, df):\n",
    "    dim = 100\n",
    "    if model == 'bow':\n",
    "        dim = 1\n",
    "    sims = np.zeros(shape=len(df), dtype='float32')\n",
    "    for i, m in df.iterrows():\n",
    "        sims[i] = get_vector_distance(m['word1'], m['word2'], model, dim)\n",
    "    return sims"
   ]
  },
  {
   "cell_type": "code",
   "execution_count": 1,
   "metadata": {
    "collapsed": false,
    "deletable": true,
    "editable": true
   },
   "outputs": [
    {
     "ename": "NameError",
     "evalue": "name 'np' is not defined",
     "output_type": "error",
     "traceback": [
      "\u001b[0;31m---------------------------------------------------------------------------\u001b[0m",
      "\u001b[0;31mNameError\u001b[0m                                 Traceback (most recent call last)",
      "\u001b[0;32m<ipython-input-1-14f5a975147f>\u001b[0m in \u001b[0;36m<module>\u001b[0;34m()\u001b[0m\n\u001b[0;32m----> 1\u001b[0;31m \u001b[0mold_err_state\u001b[0m \u001b[0;34m=\u001b[0m \u001b[0mnp\u001b[0m\u001b[0;34m.\u001b[0m\u001b[0mseterr\u001b[0m\u001b[0;34m(\u001b[0m\u001b[0mall\u001b[0m\u001b[0;34m=\u001b[0m\u001b[0;34m'raise'\u001b[0m\u001b[0;34m)\u001b[0m\u001b[0;34m\u001b[0m\u001b[0m\n\u001b[0m\u001b[1;32m      2\u001b[0m \u001b[0;34m\u001b[0m\u001b[0m\n\u001b[1;32m      3\u001b[0m \u001b[0msimilarities\u001b[0m \u001b[0;34m=\u001b[0m \u001b[0;34m{\u001b[0m\u001b[0;34m'hj'\u001b[0m \u001b[0;34m:\u001b[0m \u001b[0mdict\u001b[0m\u001b[0;34m(\u001b[0m\u001b[0;34m)\u001b[0m\u001b[0;34m,\u001b[0m \u001b[0;34m'rt-test'\u001b[0m \u001b[0;34m:\u001b[0m \u001b[0mdict\u001b[0m\u001b[0;34m(\u001b[0m\u001b[0;34m)\u001b[0m\u001b[0;34m,\u001b[0m \u001b[0;34m'ae2-test'\u001b[0m \u001b[0;34m:\u001b[0m \u001b[0mdict\u001b[0m\u001b[0;34m(\u001b[0m\u001b[0;34m)\u001b[0m\u001b[0;34m}\u001b[0m\u001b[0;34m\u001b[0m\u001b[0m\n\u001b[1;32m      4\u001b[0m \u001b[0;34m\u001b[0m\u001b[0m\n\u001b[1;32m      5\u001b[0m \u001b[0;32mfor\u001b[0m \u001b[0mname\u001b[0m \u001b[0;32min\u001b[0m \u001b[0;34m{\u001b[0m\u001b[0;34m'hj'\u001b[0m\u001b[0;34m,\u001b[0m \u001b[0;34m'rt-test'\u001b[0m\u001b[0;34m,\u001b[0m \u001b[0;34m'ae2-test'\u001b[0m\u001b[0;34m}\u001b[0m\u001b[0;34m:\u001b[0m\u001b[0;34m\u001b[0m\u001b[0m\n",
      "\u001b[0;31mNameError\u001b[0m: name 'np' is not defined"
     ]
    }
   ],
   "source": [
    "old_err_state = np.seterr(all='raise')\n",
    "\n",
    "similarities = {'hj' : dict(), 'rt-test' : dict(), 'ae2-test' : dict()}\n",
    "\n",
    "for name in {'hj', 'rt-test', 'ae2-test'}:\n",
    "    for i in {'word2vec', 'glove', 'wang2vec', 'adagram', 'word2vecf', 'fasttext', 'bow', 'swivel'}:\n",
    "        dataset = load_sim_dataset(name)\n",
    "        similarities[name][i] = spearmanr(dataset.sim.values, make_sims_dataset(i, dataset))"
   ]
  },
  {
   "cell_type": "code",
   "execution_count": 47,
   "metadata": {
    "collapsed": false,
    "deletable": true,
    "editable": true
   },
   "outputs": [
    {
     "data": {
      "text/plain": [
       "{'ae2-test': {'adagram': SpearmanrResult(correlation=-0.044191642048389379, pvalue=0.015458423575035728),\n",
       "  'bow': SpearmanrResult(correlation=nan, pvalue=nan),\n",
       "  'fasttext': SpearmanrResult(correlation=-0.55784097845324077, pvalue=3.7062473768970375e-245),\n",
       "  'glove': SpearmanrResult(correlation=-0.33243640384170514, pvalue=2.2345020884073807e-78),\n",
       "  'swivel': SpearmanrResult(correlation=-0.54222064673484227, pvalue=4.2942952617796872e-229),\n",
       "  'wang2vec': SpearmanrResult(correlation=-0.41997846923793491, pvalue=1.3435536616510378e-128),\n",
       "  'word2vec': SpearmanrResult(correlation=-0.42410116113024593, pvalue=2.3215699024124498e-131),\n",
       "  'word2vecf': SpearmanrResult(correlation=0.018254376440922811, pvalue=0.31739115804930479)},\n",
       " 'hj': {'adagram': SpearmanrResult(correlation=-0.054845194889437253, pvalue=0.27503598850938871),\n",
       "  'bow': SpearmanrResult(correlation=nan, pvalue=nan),\n",
       "  'fasttext': SpearmanrResult(correlation=-0.50106463558793835, pvalue=1.095410375867721e-26),\n",
       "  'glove': SpearmanrResult(correlation=-0.26464437585575118, pvalue=8.3741986511273215e-08),\n",
       "  'swivel': SpearmanrResult(correlation=-0.4944033704182732, pvalue=6.3574707068617386e-26),\n",
       "  'wang2vec': SpearmanrResult(correlation=-0.40943402347878766, pvalue=1.6120677077586878e-17),\n",
       "  'word2vec': SpearmanrResult(correlation=-0.40047569122951415, pvalue=9.183642206135501e-17),\n",
       "  'word2vecf': SpearmanrResult(correlation=nan, pvalue=nan)},\n",
       " 'rt-test': {'adagram': SpearmanrResult(correlation=-0.11124355903614561, pvalue=1.1217273553346764e-27),\n",
       "  'bow': SpearmanrResult(correlation=nan, pvalue=nan),\n",
       "  'fasttext': SpearmanrResult(correlation=-0.26629335527782466, pvalue=1.0497251703205037e-154),\n",
       "  'glove': SpearmanrResult(correlation=-0.20075813007531843, pvalue=2.1513917193341434e-87),\n",
       "  'swivel': SpearmanrResult(correlation=-0.22987831493059993, pvalue=1.0221428700300267e-114),\n",
       "  'wang2vec': SpearmanrResult(correlation=-0.18395660949609396, pvalue=1.9278424340179583e-73),\n",
       "  'word2vec': SpearmanrResult(correlation=-0.17494759750655015, pvalue=1.7073724742076334e-66),\n",
       "  'word2vecf': SpearmanrResult(correlation=nan, pvalue=nan)}}"
      ]
     },
     "execution_count": 47,
     "metadata": {},
     "output_type": "execute_result"
    }
   ],
   "source": [
    "similarities"
   ]
  },
  {
   "cell_type": "code",
   "execution_count": null,
   "metadata": {
    "collapsed": true,
    "deletable": true,
    "editable": true
   },
   "outputs": [],
   "source": []
  }
 ],
 "metadata": {
  "kernelspec": {
   "display_name": "Python 3",
   "language": "python",
   "name": "python3"
  },
  "language_info": {
   "codemirror_mode": {
    "name": "ipython",
    "version": 3
   },
   "file_extension": ".py",
   "mimetype": "text/x-python",
   "name": "python",
   "nbconvert_exporter": "python",
   "pygments_lexer": "ipython3",
   "version": "3.5.3"
  }
 },
 "nbformat": 4,
 "nbformat_minor": 2
}
