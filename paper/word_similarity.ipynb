{
 "cells": [
  {
   "cell_type": "code",
   "execution_count": 1,
   "metadata": {
    "collapsed": false,
    "deletable": true,
    "editable": true
   },
   "outputs": [],
   "source": [
    "from pandas import read_csv, Series\n",
    "from gensim.models import Word2Vec, KeyedVectors\n",
    "import numpy as np\n",
    "from pickle import load\n",
    "from glove import Glove\n",
    "import adagram\n",
    "from gensim.models.wrappers import FastText, Wordrank\n",
    "from embed_utils import Word2VecF, Swivel, cosine_sim, get_adagram_sense_prob, wv\n",
    "from utils.string_utils import morph_parse, make_tokens\n",
    "from scipy.spatial.distance import cosine\n",
    "from os import path\n",
    "from scipy.stats import spearmanr\n",
    "from sklearn.metrics import f1_score"
   ]
  },
  {
   "cell_type": "code",
   "execution_count": 2,
   "metadata": {
    "collapsed": false,
    "deletable": true,
    "editable": true
   },
   "outputs": [],
   "source": [
    "def get_vector_distance(word1, word2, model, num_features):\n",
    "    if model == 'word2vec':\n",
    "        return 1 - cosine(word2vec[word1], word2vec[word2])\n",
    "    elif model == 'wang2vec':\n",
    "        return 1 - cosine(wang2vec[word1], wang2vec[word2])\n",
    "    elif model == 'glove':\n",
    "        return 1- cosine(wv(glove, word1), wv(glove, word2))\n",
    "    elif model == 'word2vecf':\n",
    "        return 1 - cosine(w2vf.word2vec(word1), w2vf.word2vec(word2))\n",
    "    elif model == 'adagram':\n",
    "        return 1 - cosine(ada_model.sense_vector(word1, get_adagram_sense_prob(ada_model, word1)),\n",
    "                      ada_model.sense_vector(word2, get_adagram_sense_prob(ada_model, word2)))\n",
    "    elif model == 'fasttext':\n",
    "        return 1 - cosine(ft[word1], ft[word2])\n",
    "    elif model == 'swivel':\n",
    "        return 1 - cosine(np.array(swivel.lookup(word1)).squeeze(), np.array(swivel.lookup(word2)).squeeze())"
   ]
  },
  {
   "cell_type": "code",
   "execution_count": 3,
   "metadata": {
    "collapsed": false,
    "deletable": true,
    "editable": true
   },
   "outputs": [],
   "source": [
    "def load_sim_dataset(name, verbose=False):\n",
    "    df = read_csv(path.join('datasets', '{}.csv'.format(name))).dropna()\n",
    "    old_len = len(df)\n",
    "    df.word1 = df.word1.apply(morph_parse)\n",
    "    df.word2 = df.word2.apply(morph_parse)\n",
    "    for i, m in df.iterrows():\n",
    "        if not m['word1'] in w2vf._vocab or not m['word2'] in w2vf._vocab:\n",
    "            df.drop(i, inplace=True)\n",
    "    if verbose:\n",
    "        print('Percent of dropped = {}%'.format(len(df)/old_len*100))\n",
    "    return df.reset_index(drop=True)"
   ]
  },
  {
   "cell_type": "code",
   "execution_count": 4,
   "metadata": {
    "collapsed": true,
    "deletable": true,
    "editable": true
   },
   "outputs": [],
   "source": [
    "MODEL_NAME = '2ch_model'"
   ]
  },
  {
   "cell_type": "markdown",
   "metadata": {
    "deletable": true,
    "editable": true
   },
   "source": [
    "Загрузка Word2Vec-модели"
   ]
  },
  {
   "cell_type": "code",
   "execution_count": 5,
   "metadata": {
    "collapsed": false,
    "deletable": true,
    "editable": true
   },
   "outputs": [],
   "source": [
    "word2vec = Word2Vec.load(path.join('models','word2vec', MODEL_NAME))"
   ]
  },
  {
   "cell_type": "markdown",
   "metadata": {
    "deletable": true,
    "editable": true
   },
   "source": [
    "Загрузка Glove-модели"
   ]
  },
  {
   "cell_type": "code",
   "execution_count": 6,
   "metadata": {
    "collapsed": false,
    "deletable": true,
    "editable": true
   },
   "outputs": [],
   "source": [
    "with open(path.join('models', 'glove' , MODEL_NAME), 'rb') as fp:\n",
    "    glove = load(fp)"
   ]
  },
  {
   "cell_type": "markdown",
   "metadata": {
    "deletable": true,
    "editable": true
   },
   "source": [
    "Загрузка Wang2Vec-модели"
   ]
  },
  {
   "cell_type": "code",
   "execution_count": 7,
   "metadata": {
    "collapsed": false,
    "deletable": true,
    "editable": true
   },
   "outputs": [],
   "source": [
    "wang2vec = KeyedVectors.load_word2vec_format(path.join('models', 'wang2vec', MODEL_NAME), binary=True)"
   ]
  },
  {
   "cell_type": "markdown",
   "metadata": {
    "deletable": true,
    "editable": true
   },
   "source": [
    "Загрузка Word2Vec-f-модели"
   ]
  },
  {
   "cell_type": "code",
   "execution_count": 8,
   "metadata": {
    "collapsed": false,
    "deletable": true,
    "editable": true
   },
   "outputs": [],
   "source": [
    "w2vf = Word2VecF.load(path.join('models', 'word2vecf', '{}.npy'.format(MODEL_NAME)),\\\n",
    "                      path.join('models', 'word2vecf', '{}.vocab'.format(MODEL_NAME)))"
   ]
  },
  {
   "cell_type": "markdown",
   "metadata": {
    "deletable": true,
    "editable": true
   },
   "source": [
    "Загрузка AdaGram-модели"
   ]
  },
  {
   "cell_type": "code",
   "execution_count": 9,
   "metadata": {
    "collapsed": false,
    "deletable": true,
    "editable": true
   },
   "outputs": [],
   "source": [
    "ada_model = adagram.VectorModel.load(path.join('models', 'adagram', '{}.pkl'.format(MODEL_NAME)))"
   ]
  },
  {
   "cell_type": "markdown",
   "metadata": {
    "deletable": true,
    "editable": true
   },
   "source": [
    "Загрузка Swivel-модели"
   ]
  },
  {
   "cell_type": "code",
   "execution_count": 10,
   "metadata": {
    "collapsed": false,
    "deletable": true,
    "editable": true
   },
   "outputs": [],
   "source": [
    "swivel = Swivel(path.join('models', 'swivel', '{}.txt'.format(MODEL_NAME)),\\\n",
    "                path.join('models', 'swivel', '{}.bin'.format(MODEL_NAME)))"
   ]
  },
  {
   "cell_type": "markdown",
   "metadata": {
    "deletable": true,
    "editable": true
   },
   "source": [
    "Загрузка FastText-модели"
   ]
  },
  {
   "cell_type": "code",
   "execution_count": 11,
   "metadata": {
    "collapsed": false,
    "deletable": true,
    "editable": true
   },
   "outputs": [],
   "source": [
    "ft = FastText.load_word2vec_format(path.join('models', 'fasttext', '{}.vec'.format(MODEL_NAME)))"
   ]
  },
  {
   "cell_type": "markdown",
   "metadata": {
    "deletable": true,
    "editable": true
   },
   "source": [
    "Получение датасетов"
   ]
  },
  {
   "cell_type": "code",
   "execution_count": 12,
   "metadata": {
    "collapsed": true,
    "deletable": true,
    "editable": true
   },
   "outputs": [],
   "source": [
    "def make_sims_dataset(model, df):\n",
    "    dim = 100\n",
    "    if model == 'bow':\n",
    "        dim = 1\n",
    "    sims = np.zeros(shape=len(df), dtype='float32')\n",
    "    for i, m in df.iterrows():\n",
    "        sims[i] = get_vector_distance(m['word1'], m['word2'], model, dim)\n",
    "    return sims"
   ]
  },
  {
   "cell_type": "code",
   "execution_count": 13,
   "metadata": {
    "collapsed": false,
    "deletable": true,
    "editable": true
   },
   "outputs": [
    {
     "name": "stdout",
     "output_type": "stream",
     "text": [
      "Percent of dropped = 26.884422110552762%\n",
      "Percent of dropped = 4.7444490992878094%\n",
      "Percent of dropped = 16.289140572951368%\n"
     ]
    }
   ],
   "source": [
    "similarities = {'hj' : dict(), 'rt-test' : dict(), 'ae2-test' : dict()}\n",
    "\n",
    "for name in ['hj', \n",
    "             'rt-test', \n",
    "             'ae2-test'\n",
    "            ]:\n",
    "    dataset = load_sim_dataset(name, True)\n",
    "    for i in ['word2vec', 'glove', 'wang2vec', 'adagram', 'word2vecf', 'fasttext', 'swivel']:\n",
    "        model_sims = make_sims_dataset(i, dataset)\n",
    "        if name != 'hj':\n",
    "            model_sims = [1 if sim > 0.5 else 0 for sim in model_sims]\n",
    "            similarities[name][i] = '%.2f' % f1_score(dataset.sim.values, model_sims)\n",
    "        else:\n",
    "            similarities[name][i] = '%.2f' % spearmanr(dataset.sim.values, model_sims)[0]"
   ]
  },
  {
   "cell_type": "code",
   "execution_count": 14,
   "metadata": {
    "collapsed": false,
    "deletable": true,
    "editable": true
   },
   "outputs": [
    {
     "data": {
      "text/plain": [
       "{'ae2-test': {'adagram': '0.04',\n",
       "  'fasttext': '0.49',\n",
       "  'glove': '0.37',\n",
       "  'swivel': '0.16',\n",
       "  'wang2vec': '0.69',\n",
       "  'word2vec': '0.68',\n",
       "  'word2vecf': '0.71'},\n",
       " 'hj': {'adagram': '0.13',\n",
       "  'fasttext': '0.50',\n",
       "  'glove': '0.42',\n",
       "  'swivel': '0.59',\n",
       "  'wang2vec': '0.52',\n",
       "  'word2vec': '0.60',\n",
       "  'word2vecf': '-0.02'},\n",
       " 'rt-test': {'adagram': '0.08',\n",
       "  'fasttext': '0.45',\n",
       "  'glove': '0.17',\n",
       "  'swivel': '0.12',\n",
       "  'wang2vec': '0.68',\n",
       "  'word2vec': '0.53',\n",
       "  'word2vecf': '0.75'}}"
      ]
     },
     "execution_count": 14,
     "metadata": {},
     "output_type": "execute_result"
    }
   ],
   "source": [
    "similarities"
   ]
  },
  {
   "cell_type": "code",
   "execution_count": null,
   "metadata": {
    "collapsed": true,
    "deletable": true,
    "editable": true
   },
   "outputs": [],
   "source": []
  }
 ],
 "metadata": {
  "kernelspec": {
   "display_name": "Python 3",
   "language": "python",
   "name": "python3"
  },
  "language_info": {
   "codemirror_mode": {
    "name": "ipython",
    "version": 3
   },
   "file_extension": ".py",
   "mimetype": "text/x-python",
   "name": "python",
   "nbconvert_exporter": "python",
   "pygments_lexer": "ipython3",
   "version": "3.5.3"
  }
 },
 "nbformat": 4,
 "nbformat_minor": 2
}
